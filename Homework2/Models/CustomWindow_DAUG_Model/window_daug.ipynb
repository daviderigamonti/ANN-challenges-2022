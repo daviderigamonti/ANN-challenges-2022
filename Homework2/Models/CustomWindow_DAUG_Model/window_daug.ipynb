{
 "cells": [
  {
   "cell_type": "markdown",
   "metadata": {},
   "source": [
    "## Imports"
   ]
  },
  {
   "cell_type": "code",
   "execution_count": 577,
   "metadata": {
    "execution": {
     "iopub.execute_input": "2022-12-15T22:46:18.638240Z",
     "iopub.status.busy": "2022-12-15T22:46:18.637720Z",
     "iopub.status.idle": "2022-12-15T22:46:18.647619Z",
     "shell.execute_reply": "2022-12-15T22:46:18.646636Z",
     "shell.execute_reply.started": "2022-12-15T22:46:18.638188Z"
    }
   },
   "outputs": [
    {
     "name": "stdout",
     "output_type": "stream",
     "text": [
      "2.6.4\n"
     ]
    }
   ],
   "source": [
    "#!pip install -U dill==0.3.5.1\n",
    "#!pip install -U tensorflow-io==0.27.0\n",
    "#!pip install -U tensorflow-transform==1.11.0\n",
    "#!pip install -U tensorflow==2.10.0\n",
    "import tensorflow as tf\n",
    "print(tf.__version__)"
   ]
  },
  {
   "cell_type": "code",
   "execution_count": 578,
   "metadata": {
    "execution": {
     "iopub.execute_input": "2022-12-15T22:46:18.705604Z",
     "iopub.status.busy": "2022-12-15T22:46:18.705327Z",
     "iopub.status.idle": "2022-12-15T22:46:18.712274Z",
     "shell.execute_reply": "2022-12-15T22:46:18.711198Z",
     "shell.execute_reply.started": "2022-12-15T22:46:18.705579Z"
    }
   },
   "outputs": [],
   "source": [
    "import numpy as np\n",
    "import os\n",
    "import random\n",
    "import pandas as pd\n",
    "import seaborn as sns\n",
    "from datetime import datetime\n",
    "import matplotlib.pyplot as plt\n",
    "from sklearn.preprocessing import MinMaxScaler\n",
    "from sklearn.metrics import accuracy_score, f1_score, precision_score, recall_score, confusion_matrix, classification_report\n",
    "from sklearn.model_selection import train_test_split, ShuffleSplit, StratifiedShuffleSplit\n",
    "from sklearn.utils import indexable, _safe_indexing, shuffle\n",
    "from sklearn.utils.validation import _num_samples\n",
    "from math import ceil, floor\n",
    "from itertools import chain\n",
    "import warnings"
   ]
  },
  {
   "cell_type": "code",
   "execution_count": 579,
   "metadata": {
    "execution": {
     "iopub.execute_input": "2022-12-15T22:46:18.776157Z",
     "iopub.status.busy": "2022-12-15T22:46:18.775217Z",
     "iopub.status.idle": "2022-12-15T22:46:18.781854Z",
     "shell.execute_reply": "2022-12-15T22:46:18.780893Z",
     "shell.execute_reply.started": "2022-12-15T22:46:18.776121Z"
    }
   },
   "outputs": [],
   "source": [
    "warnings.filterwarnings('ignore')\n",
    "tf.get_logger().setLevel('ERROR')\n",
    "\n",
    "plt.rc('font', size=16)\n",
    "\n",
    "tfk = tf.keras\n",
    "tfkl = tf.keras.layers"
   ]
  },
  {
   "cell_type": "markdown",
   "metadata": {},
   "source": [
    "## Defines"
   ]
  },
  {
   "cell_type": "markdown",
   "metadata": {},
   "source": [
    "### Seed"
   ]
  },
  {
   "cell_type": "code",
   "execution_count": 580,
   "metadata": {
    "execution": {
     "iopub.execute_input": "2022-12-15T22:46:18.840096Z",
     "iopub.status.busy": "2022-12-15T22:46:18.839726Z",
     "iopub.status.idle": "2022-12-15T22:46:18.855395Z",
     "shell.execute_reply": "2022-12-15T22:46:18.854423Z",
     "shell.execute_reply.started": "2022-12-15T22:46:18.840067Z"
    }
   },
   "outputs": [],
   "source": [
    "# Random seed for reproducibility\n",
    "seed = 1337\n",
    "\n",
    "random.seed(seed)\n",
    "os.environ['PYTHONHASHSEED'] = str(seed)\n",
    "np.random.seed(seed)\n",
    "tf.random.set_seed(seed)\n",
    "tf.compat.v1.set_random_seed(seed)"
   ]
  },
  {
   "cell_type": "markdown",
   "metadata": {},
   "source": [
    "### Constants"
   ]
  },
  {
   "cell_type": "markdown",
   "metadata": {},
   "source": [
    "#### Imports"
   ]
  },
  {
   "cell_type": "code",
   "execution_count": 581,
   "metadata": {
    "execution": {
     "iopub.execute_input": "2022-12-15T22:46:18.904616Z",
     "iopub.status.busy": "2022-12-15T22:46:18.903892Z",
     "iopub.status.idle": "2022-12-15T22:46:18.909325Z",
     "shell.execute_reply": "2022-12-15T22:46:18.908459Z",
     "shell.execute_reply.started": "2022-12-15T22:46:18.904579Z"
    }
   },
   "outputs": [],
   "source": [
    "dataset_location = '/kaggle/input/training-dataset-homework2/'\n",
    "x_name = 'x_train.npy'\n",
    "y_name = 'y_train.npy'"
   ]
  },
  {
   "cell_type": "markdown",
   "metadata": {},
   "source": [
    "#### Training"
   ]
  },
  {
   "cell_type": "code",
   "execution_count": 582,
   "metadata": {
    "execution": {
     "iopub.execute_input": "2022-12-15T22:46:18.968475Z",
     "iopub.status.busy": "2022-12-15T22:46:18.968119Z",
     "iopub.status.idle": "2022-12-15T22:46:18.974202Z",
     "shell.execute_reply": "2022-12-15T22:46:18.973250Z",
     "shell.execute_reply.started": "2022-12-15T22:46:18.968445Z"
    }
   },
   "outputs": [],
   "source": [
    "classes = 12\n",
    "features = 6\n",
    "input_shape = (None, 6)\n",
    "\n",
    "batch_size = 64\n",
    "epochs = 200\n",
    "\n",
    "label_mapping = {\n",
    "    \"Wish\" : 0,\n",
    "    \"Another\" : 1,\n",
    "    \"Comfortably\" : 2,\n",
    "    \"Money\" : 3,\n",
    "    \"Breathe\" : 4,\n",
    "    \"Time\" : 5,\n",
    "    \"Brain\" : 6,\n",
    "    \"Echoes\" : 7,\n",
    "    \"Wearing\" : 8,\n",
    "    \"Sorrow\" : 9,\n",
    "    \"Hey\" : 10,\n",
    "    \"Shine\" : 11\n",
    "}"
   ]
  },
  {
   "cell_type": "markdown",
   "metadata": {},
   "source": [
    "### Utility Functions"
   ]
  },
  {
   "cell_type": "markdown",
   "metadata": {},
   "source": [
    "#### Custom scipy"
   ]
  },
  {
   "cell_type": "code",
   "execution_count": 583,
   "metadata": {
    "execution": {
     "iopub.execute_input": "2022-12-15T22:46:19.029835Z",
     "iopub.status.busy": "2022-12-15T22:46:19.029581Z",
     "iopub.status.idle": "2022-12-15T22:46:19.041604Z",
     "shell.execute_reply": "2022-12-15T22:46:19.040631Z",
     "shell.execute_reply.started": "2022-12-15T22:46:19.029811Z"
    }
   },
   "outputs": [],
   "source": [
    "def _validate_shuffle_split(n_samples, test_size, train_size, default_test_size=None):\n",
    "    \"\"\"\n",
    "    Validation helper to check if the test/test sizes are meaningful wrt to the\n",
    "    size of the data (n_samples)\n",
    "    \"\"\"\n",
    "    if test_size is None and train_size is None:\n",
    "        test_size = default_test_size\n",
    "\n",
    "    test_size_type = np.asarray(test_size).dtype.kind\n",
    "    train_size_type = np.asarray(train_size).dtype.kind\n",
    "\n",
    "    if (\n",
    "        test_size_type == \"i\"\n",
    "        and (test_size >= n_samples or test_size <= 0)\n",
    "        or test_size_type == \"f\"\n",
    "        and (test_size <= 0 or test_size >= 1)\n",
    "    ):\n",
    "        raise ValueError(\n",
    "            \"test_size={0} should be either positive and smaller\"\n",
    "            \" than the number of samples {1} or a float in the \"\n",
    "            \"(0, 1) range\".format(test_size, n_samples)\n",
    "        )\n",
    "\n",
    "    if (\n",
    "        train_size_type == \"i\"\n",
    "        and (train_size >= n_samples or train_size <= 0)\n",
    "        or train_size_type == \"f\"\n",
    "        and (train_size <= 0 or train_size >= 1)\n",
    "    ):\n",
    "        raise ValueError(\n",
    "            \"train_size={0} should be either positive and smaller\"\n",
    "            \" than the number of samples {1} or a float in the \"\n",
    "            \"(0, 1) range\".format(train_size, n_samples)\n",
    "        )\n",
    "\n",
    "    if train_size is not None and train_size_type not in (\"i\", \"f\"):\n",
    "        raise ValueError(\"Invalid value for train_size: {}\".format(train_size))\n",
    "    if test_size is not None and test_size_type not in (\"i\", \"f\"):\n",
    "        raise ValueError(\"Invalid value for test_size: {}\".format(test_size))\n",
    "\n",
    "    if train_size_type == \"f\" and test_size_type == \"f\" and train_size + test_size > 1:\n",
    "        raise ValueError(\n",
    "            \"The sum of test_size and train_size = {}, should be in the (0, 1)\"\n",
    "            \" range. Reduce test_size and/or train_size.\".format(train_size + test_size)\n",
    "        )\n",
    "\n",
    "    if test_size_type == \"f\":\n",
    "        n_test = ceil(test_size * n_samples)\n",
    "    elif test_size_type == \"i\":\n",
    "        n_test = float(test_size)\n",
    "\n",
    "    if train_size_type == \"f\":\n",
    "        n_train = floor(train_size * n_samples)\n",
    "    elif train_size_type == \"i\":\n",
    "        n_train = float(train_size)\n",
    "\n",
    "    if train_size is None:\n",
    "        n_train = n_samples - n_test\n",
    "    elif test_size is None:\n",
    "        n_test = n_samples - n_train\n",
    "\n",
    "    if n_train + n_test > n_samples:\n",
    "        raise ValueError(\n",
    "            \"The sum of train_size and test_size = %d, \"\n",
    "            \"should be smaller than the number of \"\n",
    "            \"samples %d. Reduce test_size and/or \"\n",
    "            \"train_size.\" % (n_train + n_test, n_samples)\n",
    "        )\n",
    "\n",
    "    n_train, n_test = int(n_train), int(n_test)\n",
    "\n",
    "    if n_train == 0:\n",
    "        raise ValueError(\n",
    "            \"With n_samples={}, test_size={} and train_size={}, the \"\n",
    "            \"resulting train set will be empty. Adjust any of the \"\n",
    "            \"aforementioned parameters.\".format(n_samples, test_size, train_size)\n",
    "        )\n",
    "\n",
    "    return n_train, n_test\n"
   ]
  },
  {
   "cell_type": "code",
   "execution_count": 584,
   "metadata": {
    "execution": {
     "iopub.execute_input": "2022-12-15T22:46:19.085304Z",
     "iopub.status.busy": "2022-12-15T22:46:19.084465Z",
     "iopub.status.idle": "2022-12-15T22:46:19.093309Z",
     "shell.execute_reply": "2022-12-15T22:46:19.092320Z",
     "shell.execute_reply.started": "2022-12-15T22:46:19.085269Z"
    }
   },
   "outputs": [],
   "source": [
    "def my_train_test_split(\n",
    "    *arrays,\n",
    "    test_size=None,\n",
    "    train_size=None,\n",
    "    random_state=None,\n",
    "    shuffle=True,\n",
    "    stratify=None,\n",
    "):\n",
    "    n_arrays = len(arrays)\n",
    "    if n_arrays == 0:\n",
    "        raise ValueError(\"At least one array required as input\")\n",
    "\n",
    "    arrays = indexable(*arrays)\n",
    "\n",
    "    n_samples = _num_samples(arrays[0])\n",
    "    n_train, n_test = _validate_shuffle_split(\n",
    "        n_samples, test_size, train_size, default_test_size=0.25\n",
    "    )\n",
    "\n",
    "    if shuffle is False:\n",
    "        if stratify is not None:\n",
    "            raise ValueError(\n",
    "                \"Stratified train/test split is not implemented for shuffle=False\"\n",
    "            )\n",
    "\n",
    "        train = np.arange(n_train)\n",
    "        test = np.arange(n_train, n_train + n_test)\n",
    "\n",
    "    else:\n",
    "        if stratify is not None:\n",
    "            CVClass = StratifiedShuffleSplit\n",
    "        else:\n",
    "            CVClass = ShuffleSplit\n",
    "\n",
    "        cv = CVClass(test_size=n_test, train_size=n_train, random_state=random_state)\n",
    "\n",
    "        train, test = next(cv.split(X=arrays[0], y=stratify))\n",
    "\n",
    "    return list(\n",
    "        chain.from_iterable(\n",
    "            (train, test) for a in arrays\n",
    "        )\n",
    "    )\n"
   ]
  },
  {
   "cell_type": "markdown",
   "metadata": {},
   "source": [
    "#### Windowing"
   ]
  },
  {
   "cell_type": "code",
   "execution_count": 585,
   "metadata": {
    "execution": {
     "iopub.execute_input": "2022-12-15T22:46:19.145271Z",
     "iopub.status.busy": "2022-12-15T22:46:19.144995Z",
     "iopub.status.idle": "2022-12-15T22:46:19.150948Z",
     "shell.execute_reply": "2022-12-15T22:46:19.149887Z",
     "shell.execute_reply.started": "2022-12-15T22:46:19.145246Z"
    }
   },
   "outputs": [],
   "source": [
    "def unroll_splice(x, y):\n",
    "    unique_labels, labels_count = np.unique(y, return_counts=True)\n",
    "    x_splices = [[] for _ in range(len(unique_labels))]\n",
    "    y_splices = [label for label in unique_labels]\n",
    "    \n",
    "    for x_samples, label in zip(x, y):\n",
    "        x_splices[label].extend(x_samples.tolist())\n",
    "        \n",
    "    return x_splices, y_splices"
   ]
  },
  {
   "cell_type": "code",
   "execution_count": 586,
   "metadata": {
    "execution": {
     "iopub.execute_input": "2022-12-15T22:46:19.214554Z",
     "iopub.status.busy": "2022-12-15T22:46:19.214292Z",
     "iopub.status.idle": "2022-12-15T22:46:19.224023Z",
     "shell.execute_reply": "2022-12-15T22:46:19.223035Z",
     "shell.execute_reply.started": "2022-12-15T22:46:19.214529Z"
    }
   },
   "outputs": [],
   "source": [
    "def build_sequences(\n",
    "    x, y, \n",
    "    window, # window: new window size\n",
    "    stride, # stride: interval between windows\n",
    "    padding = True, # padding: if False, throw an error if padding is required\n",
    "    preserve_window_size = False # preserve_window_size: if True, only generate new samples inside the old window\n",
    "):\n",
    "    \n",
    "    old_window = np.shape(x)[1]\n",
    "    overlap = window - stride\n",
    "    jump_length = window - overlap\n",
    "    \n",
    "    assert overlap >= 0\n",
    "    \n",
    "    dataset = []\n",
    "    labels = []\n",
    "    \n",
    "    if preserve_window_size:\n",
    "        assert window <= old_window\n",
    "        x_iter, y_iter = x, y\n",
    "    else:\n",
    "        x_iter, y_iter = unroll_splice(x, y)\n",
    "        \n",
    "    for samples, label in zip(x_iter, y_iter):\n",
    "        \n",
    "        new_samples = samples.copy()\n",
    "        \n",
    "        # Padding (not guaranteed to work)\n",
    "        if len(samples) % jump_length:\n",
    "            if padding:\n",
    "                padding_len = overlap\n",
    "                padding = [[0 for _ in range(np.shape(samples)[1])] for _ in range(padding_len)]\n",
    "                padding.extend(samples)\n",
    "                new_samples = padding\n",
    "            else:\n",
    "                print(\"NO PADDING >:(\")\n",
    "                assert False\n",
    "                \n",
    "        n_new_samples = len(new_samples) - window + 1\n",
    "        \n",
    "        for i in np.arange(0, n_new_samples, stride):\n",
    "            dataset.append(new_samples[i:i + window][:])\n",
    "            labels.append(label)\n",
    "    \n",
    "    return dataset, labels"
   ]
  },
  {
   "cell_type": "markdown",
   "metadata": {},
   "source": [
    "#### DAUG"
   ]
  },
  {
   "cell_type": "code",
   "execution_count": 587,
   "metadata": {
    "execution": {
     "iopub.execute_input": "2022-12-15T22:46:19.261429Z",
     "iopub.status.busy": "2022-12-15T22:46:19.261139Z",
     "iopub.status.idle": "2022-12-15T22:46:19.272360Z",
     "shell.execute_reply": "2022-12-15T22:46:19.271283Z",
     "shell.execute_reply.started": "2022-12-15T22:46:19.261403Z"
    }
   },
   "outputs": [],
   "source": [
    "def daug_reverse(\n",
    "    x, y,\n",
    "    size = 0.5, # Size of the inverted section from 0 to 1\n",
    "    frequence = 0.5, # Frequence of DAUG on dataset\n",
    "    only_augmented = False, # Return only augmented entries\n",
    "    features = [i for i in range(features)], classes = [i for i in range(classes)], # Masks for excluding features/classes\n",
    "    seed = 0\n",
    "):\n",
    "    rng = random.Random(seed)\n",
    "    augmented_dataset = []\n",
    "    labels = []\n",
    "    \n",
    "    for window, label in zip(x, y):\n",
    "        aug = False\n",
    "        if label in classes and rng.uniform(0, 1) <= frequence:\n",
    "            \n",
    "            aug = True\n",
    "            window_size = np.shape(window)[0]\n",
    "            window = window.T\n",
    "            new_window = []\n",
    "            \n",
    "            # Calculate reversing interval\n",
    "            reverse_size = int(np.rint(size * window_size))\n",
    "            reverse_size = reverse_size if reverse_size > 0 else 2\n",
    "            reverse_start = rng.randint(0, window_size - reverse_size)\n",
    "            reverse_end = reverse_start + reverse_size\n",
    "            \n",
    "            for i, f_samples in enumerate(window):\n",
    "                if i in features:\n",
    "                    f_samples = f_samples.tolist()\n",
    "                    \n",
    "                    # Reverse\n",
    "                    f_samples[reverse_start:reverse_end] = f_samples[reverse_start:reverse_end][::-1]\n",
    "                    \n",
    "                new_window.append(f_samples)\n",
    "            window = np.array(new_window).T\n",
    "            \n",
    "        if not only_augmented or aug:\n",
    "            augmented_dataset.append(window)\n",
    "            labels.append(label)\n",
    "            \n",
    "    return np.array(augmented_dataset), np.array(labels)"
   ]
  },
  {
   "cell_type": "code",
   "execution_count": 588,
   "metadata": {
    "execution": {
     "iopub.execute_input": "2022-12-15T22:46:19.288420Z",
     "iopub.status.busy": "2022-12-15T22:46:19.288154Z",
     "iopub.status.idle": "2022-12-15T22:46:19.296647Z",
     "shell.execute_reply": "2022-12-15T22:46:19.295719Z",
     "shell.execute_reply.started": "2022-12-15T22:46:19.288395Z"
    }
   },
   "outputs": [],
   "source": [
    "def daug_noise(\n",
    "    x, y, \n",
    "    mean = 0, variance = 1, # Noise parameters\n",
    "    frequence = 0.5, # Frequence of DAUG on dataset\n",
    "    only_augmented = False, # Return only augmented entries\n",
    "    features = [i for i in range(features)], classes = [i for i in range(classes)], # Masks for excluding features/classes\n",
    "    seed = 0\n",
    "):\n",
    "    rng = random.Random(seed)\n",
    "    augmented_dataset = []\n",
    "    labels = []\n",
    "    \n",
    "    for window, label in zip(x, y):\n",
    "        aug = False\n",
    "        if label in classes and rng.uniform(0, 1) <= frequence:\n",
    "            \n",
    "            aug = True\n",
    "            window_size = np.shape(window)[0]\n",
    "            window = window.T\n",
    "            new_window = []\n",
    "            \n",
    "            for i, f_samples in enumerate(window):\n",
    "                if i in features:\n",
    "                    \n",
    "                    # Adding noise\n",
    "                    f_samples + np.random.normal(mean, variance, window_size)\n",
    "                    \n",
    "                new_window.append(f_samples)\n",
    "            window = np.array(new_window).T\n",
    "            \n",
    "        if not only_augmented or aug:\n",
    "            augmented_dataset.append(window)\n",
    "            labels.append(label)\n",
    "            \n",
    "    return np.array(augmented_dataset), np.array(labels)"
   ]
  },
  {
   "cell_type": "code",
   "execution_count": 589,
   "metadata": {
    "execution": {
     "iopub.execute_input": "2022-12-15T22:46:19.304391Z",
     "iopub.status.busy": "2022-12-15T22:46:19.303708Z",
     "iopub.status.idle": "2022-12-15T22:46:19.320907Z",
     "shell.execute_reply": "2022-12-15T22:46:19.319841Z",
     "shell.execute_reply.started": "2022-12-15T22:46:19.304321Z"
    }
   },
   "outputs": [],
   "source": [
    "def get_cutmix_element(x, y, label, rng):\n",
    "    pool = [w for w, l in zip(x,y) if l == label]\n",
    "    idx = rng.randint(0, len(pool) - 1)\n",
    "    return pool[idx].T\n",
    "\n",
    "def daug_cutmix(\n",
    "    x, y, \n",
    "    min_max_size = (0.2, 0.4), # Minimum and maximum size for cutmix source, this is ignore if full_embed = True\n",
    "    full_embed = False, # Embeds all of the cutmix source entry into the receiving (WARNING! It changes the size of the entry, not recommended with custom feature masks)\n",
    "    change_for_each_feature = False, # If true, eachs feature gets its cutmix from a different source/size/position\n",
    "    frequence = (0.5, 0.5), # Frequence of DAUG on dataset and frequence of DAUG on features\n",
    "    only_augmented = False, # Return only augmented entries\n",
    "    features = [i for i in range(features)], classes = [i for i in range(classes)], # Masks for excluding features/classes\n",
    "    seed = 0\n",
    "):\n",
    "    rng = random.Random(seed)\n",
    "    augmented_dataset = []\n",
    "    labels = []\n",
    "    \n",
    "    for window, label in zip(x, y):\n",
    "        aug = False\n",
    "        if label in classes and rng.uniform(0, 1) <= frequence[0]:\n",
    "            aug = True\n",
    "            window_size = np.shape(window)[0]\n",
    "            window = window.T\n",
    "            new_window = []\n",
    "            \n",
    "            # Get new cutmix source element\n",
    "            cutmix_el = get_cutmix_element(x, y, label, rng)\n",
    "            \n",
    "            # Calculate cutmix source size + position and cutmix destination position\n",
    "            if full_embed:\n",
    "                cutmix_position = rng.randint(0, window_size)\n",
    "            else:\n",
    "                cutmix_size = int(np.rint(rng.uniform(*min_max_size) * window_size))\n",
    "                cutmix_size = cutmix_size if cutmix_size > 0 else 1\n",
    "                cutmix_position_s = rng.randint(0, window_size - cutmix_size)\n",
    "                cutmix_position_r = rng.randint(0, window_size - cutmix_size)\n",
    "                \n",
    "            \n",
    "            for i, f_samples in enumerate(window):\n",
    "                if i in features and rng.uniform(0, 1) <= frequence[1]:\n",
    "                    \n",
    "                    # Apply cutmix to feature\n",
    "                    if full_embed:\n",
    "                        np.insert(f_samples, cutmix_position, cutmix_el[i])\n",
    "                    else:\n",
    "                        f_samples[cutmix_position_r:cutmix_position_r + cutmix_size] = cutmix_el[i][cutmix_position_s:cutmix_position_s + cutmix_size]\n",
    "                        \n",
    "                    # Change cutmix parameters if the source is different for each feature\n",
    "                    if change_for_each_feature:\n",
    "                        cutmix_size = int(np.rint(rng.uniform(*min_max_size) * window_size))\n",
    "                        cutmix_size = cutmix_size if cutmix_size > 0 else 1\n",
    "                        cutmix_el = get_cutmix_element(x, y, label, rng)\n",
    "                        cutmix_position_s = rng.randint(0, window_size - cutmix_size)\n",
    "                        cutmix_position_r = rng.randint(0, window_size - cutmix_size)\n",
    "                        \n",
    "                new_window.append(f_samples)\n",
    "            window = np.array(new_window).T\n",
    "            \n",
    "        if not only_augmented or aug:\n",
    "            augmented_dataset.append(window)\n",
    "            labels.append(label)\n",
    "            \n",
    "    return np.array(augmented_dataset), np.array(labels)"
   ]
  },
  {
   "cell_type": "markdown",
   "metadata": {},
   "source": [
    "#### Visualization"
   ]
  },
  {
   "cell_type": "code",
   "execution_count": 590,
   "metadata": {
    "execution": {
     "iopub.execute_input": "2022-12-15T22:46:19.343791Z",
     "iopub.status.busy": "2022-12-15T22:46:19.343537Z",
     "iopub.status.idle": "2022-12-15T22:46:19.349275Z",
     "shell.execute_reply": "2022-12-15T22:46:19.348322Z",
     "shell.execute_reply.started": "2022-12-15T22:46:19.343766Z"
    }
   },
   "outputs": [],
   "source": [
    "def inspect_multivariate(x, y, idx=None):\n",
    "    if(idx == None):\n",
    "        idx = np.random.randint(0, len(x))\n",
    "    print(f\"{y[idx]} --> {np.argmax(y[idx])}\")\n",
    "    df = pd.DataFrame(x[idx,:,:])\n",
    "    df.plot(subplots=True, figsize=(17, 9))\n",
    "    plt.show()"
   ]
  },
  {
   "cell_type": "code",
   "execution_count": 591,
   "metadata": {
    "execution": {
     "iopub.execute_input": "2022-12-15T22:46:19.409236Z",
     "iopub.status.busy": "2022-12-15T22:46:19.408377Z",
     "iopub.status.idle": "2022-12-15T22:46:19.415745Z",
     "shell.execute_reply": "2022-12-15T22:46:19.414678Z",
     "shell.execute_reply.started": "2022-12-15T22:46:19.409201Z"
    }
   },
   "outputs": [],
   "source": [
    "def inspect_timewise(total):\n",
    "    vis = np.transpose(np.concatenate(total))\n",
    "    plt.rcParams[\"figure.figsize\"] = [15, 30]\n",
    "    plt.rcParams[\"figure.autolayout\"] = True\n",
    "    fig, axs = plt.subplots(6)\n",
    "    for idx in range(6):\n",
    "        df = pd.DataFrame(vis[idx,:])\n",
    "        axs[idx].plot(df)\n",
    "        l=0\n",
    "        for i in label_counts:\n",
    "            l = l + i*36\n",
    "            axs[idx].axvline(l, color='red')\n",
    "        axs[idx].text(s = f\"Feature {idx+1}\", x = 80000, y = 30000)\n",
    "    plt.show()"
   ]
  },
  {
   "cell_type": "code",
   "execution_count": 592,
   "metadata": {
    "execution": {
     "iopub.execute_input": "2022-12-15T22:46:19.474574Z",
     "iopub.status.busy": "2022-12-15T22:46:19.474044Z",
     "iopub.status.idle": "2022-12-15T22:46:19.485889Z",
     "shell.execute_reply": "2022-12-15T22:46:19.485065Z",
     "shell.execute_reply.started": "2022-12-15T22:46:19.474538Z"
    }
   },
   "outputs": [],
   "source": [
    "def evaluate_classes_performance(model, x_val, y_val):\n",
    "    data_list = []\n",
    "    label_list = []\n",
    "    batch_index = 0\n",
    "\n",
    "    data_array = np.array(x_val)\n",
    "    label_array = np.array(y_val)   \n",
    "    label_values = np.argmax(label_array, axis=1)\n",
    "    predictions = model.predict(data_array)\n",
    "    predictions_label = np.argmax(predictions, axis=1)\n",
    "    \n",
    "    report = classification_report(label_values, predictions_label)\n",
    "    print(report)\n",
    "    \n",
    "    # Compute the confusion matrix\n",
    "    cm = confusion_matrix(np.argmax(y_val, axis=-1), np.argmax(predictions, axis=-1))\n",
    "\n",
    "    # Compute the classification metrics\n",
    "    accuracy = accuracy_score(np.argmax(y_val, axis=-1), np.argmax(predictions, axis=-1))\n",
    "    precision = precision_score(np.argmax(y_val, axis=-1), np.argmax(predictions, axis=-1), average='macro')\n",
    "    recall = recall_score(np.argmax(y_val, axis=-1), np.argmax(predictions, axis=-1), average='macro')\n",
    "    f1 = f1_score(np.argmax(y_val, axis=-1), np.argmax(predictions, axis=-1), average='macro')\n",
    "    print('Accuracy:', accuracy.round(4))\n",
    "    print('Precision:', precision.round(4))\n",
    "    print('Recall:', recall.round(4))\n",
    "    print('F1:', f1.round(4))\n",
    "\n",
    "    # Plot the confusion matrix\n",
    "    plt.figure(figsize=(10,8))\n",
    "    sns.heatmap(cm.T, cmap='Blues', xticklabels=list(label_mapping.keys()), yticklabels=list(label_mapping.keys()))\n",
    "    plt.xlabel('True labels')\n",
    "    plt.ylabel('Predicted labels')\n",
    "    plt.show()"
   ]
  },
  {
   "cell_type": "code",
   "execution_count": 593,
   "metadata": {
    "execution": {
     "iopub.execute_input": "2022-12-15T22:46:19.540938Z",
     "iopub.status.busy": "2022-12-15T22:46:19.540203Z",
     "iopub.status.idle": "2022-12-15T22:46:19.550291Z",
     "shell.execute_reply": "2022-12-15T22:46:19.549486Z",
     "shell.execute_reply.started": "2022-12-15T22:46:19.540904Z"
    }
   },
   "outputs": [],
   "source": [
    "def plot_history(history):\n",
    "    best_epoch = np.argmax(history['val_accuracy'])\n",
    "    plt.figure(figsize=(17,4))\n",
    "    plt.plot(history['loss'], label='Training loss', alpha=.8, color='#ff7f0e')\n",
    "    plt.plot(history['val_loss'], label='Validation loss', alpha=.9, color='#5a9aa5')\n",
    "    plt.axvline(x=best_epoch, label='Best epoch', alpha=.3, ls='--', color='#5a9aa5')\n",
    "    plt.title('Categorical Crossentropy')\n",
    "    plt.legend()\n",
    "    plt.grid(alpha=.3)\n",
    "    plt.show()\n",
    "\n",
    "    plt.figure(figsize=(17,4))\n",
    "    plt.plot(history['accuracy'], label='Training accuracy', alpha=.8, color='#ff7f0e')\n",
    "    plt.plot(history['val_accuracy'], label='Validation accuracy', alpha=.9, color='#5a9aa5')\n",
    "    plt.axvline(x=best_epoch, label='Best epoch', alpha=.3, ls='--', color='#5a9aa5')\n",
    "    plt.title('Accuracy')\n",
    "    plt.legend()\n",
    "    plt.grid(alpha=.3)\n",
    "    plt.show()\n",
    "\n",
    "    plt.figure(figsize=(17,4))\n",
    "    plt.plot(history['lr'], label='Learning Rate', alpha=.8, color='#ff7f0e')\n",
    "    plt.axvline(x=best_epoch, label='Best epoch', alpha=.3, ls='--', color='#5a9aa5')\n",
    "    plt.legend()\n",
    "    plt.grid(alpha=.3)\n",
    "    plt.show()"
   ]
  },
  {
   "cell_type": "markdown",
   "metadata": {},
   "source": [
    "## Load dataset"
   ]
  },
  {
   "cell_type": "code",
   "execution_count": 594,
   "metadata": {
    "execution": {
     "iopub.execute_input": "2022-12-15T22:46:19.605131Z",
     "iopub.status.busy": "2022-12-15T22:46:19.603160Z",
     "iopub.status.idle": "2022-12-15T22:46:19.614844Z",
     "shell.execute_reply": "2022-12-15T22:46:19.613988Z",
     "shell.execute_reply.started": "2022-12-15T22:46:19.605104Z"
    }
   },
   "outputs": [],
   "source": [
    "x_total = np.load(dataset_location + x_name)\n",
    "y_total = np.load(dataset_location + y_name)"
   ]
  },
  {
   "cell_type": "markdown",
   "metadata": {},
   "source": [
    "### Preprocessing"
   ]
  },
  {
   "cell_type": "code",
   "execution_count": 595,
   "metadata": {
    "execution": {
     "iopub.execute_input": "2022-12-15T22:46:19.672222Z",
     "iopub.status.busy": "2022-12-15T22:46:19.671942Z",
     "iopub.status.idle": "2022-12-15T22:46:19.681115Z",
     "shell.execute_reply": "2022-12-15T22:46:19.680010Z",
     "shell.execute_reply.started": "2022-12-15T22:46:19.672198Z"
    }
   },
   "outputs": [
    {
     "name": "stdout",
     "output_type": "stream",
     "text": [
      "{0: 5.953431372549019, 1: 1.6456639566395665, 2: 0.7496913580246913, 3: 0.5312773403324584, 4: 3.264784946236559, 5: 1.3229847494553377, 6: 0.6466986155484558, 7: 2.9767156862745097, 8: 1.6868055555555554, 9: 0.2605105105105105, 10: 2.628787878787879, 11: 3.9689542483660127}\n"
     ]
    }
   ],
   "source": [
    "# Weight classes\n",
    "class_weights = {}\n",
    "_, label_counts = np.unique(y_total, return_counts=True)\n",
    "class_mean = sum(label_counts) / len(label_counts)\n",
    "for i, n in enumerate(label_counts):\n",
    "    class_weights[i] = (1 / n) * class_mean\n",
    "print(class_weights)"
   ]
  },
  {
   "cell_type": "code",
   "execution_count": 596,
   "metadata": {
    "execution": {
     "iopub.execute_input": "2022-12-15T22:46:19.737220Z",
     "iopub.status.busy": "2022-12-15T22:46:19.736943Z",
     "iopub.status.idle": "2022-12-15T22:46:19.747480Z",
     "shell.execute_reply": "2022-12-15T22:46:19.746567Z",
     "shell.execute_reply.started": "2022-12-15T22:46:19.737196Z"
    }
   },
   "outputs": [],
   "source": [
    "split_masks = my_train_test_split(\n",
    "    x_total,\n",
    "    y_total,\n",
    "    test_size=0.2,\n",
    "    stratify=y_total,\n",
    "    random_state=seed\n",
    ")\n",
    "\n",
    "for mask in split_masks:\n",
    "    mask.sort()\n",
    "\n",
    "x_val = x_total[split_masks[1]]\n",
    "x_train = np.delete(x_total, split_masks[1], axis=0)\n",
    "\n",
    "y_val = y_total[split_masks[3]]\n",
    "y_train = np.delete(y_total, split_masks[3], axis=0)"
   ]
  },
  {
   "cell_type": "code",
   "execution_count": 597,
   "metadata": {
    "execution": {
     "iopub.execute_input": "2022-12-15T22:46:19.792802Z",
     "iopub.status.busy": "2022-12-15T22:46:19.792544Z",
     "iopub.status.idle": "2022-12-15T22:46:19.800687Z",
     "shell.execute_reply": "2022-12-15T22:46:19.799566Z",
     "shell.execute_reply.started": "2022-12-15T22:46:19.792778Z"
    }
   },
   "outputs": [],
   "source": [
    "# Sanity checks\n",
    "assert (split_masks[0]==split_masks[2]).all() and (split_masks[1]==split_masks[3]).all()\n",
    "assert np.intersect1d(split_masks[0], split_masks[1]).size == 0\n",
    "assert len(split_masks[0]) + len(split_masks[1]) == len(x_total)\n",
    "assert np.array_equal(x_train, np.squeeze(x_total[split_masks[0]]))"
   ]
  },
  {
   "cell_type": "code",
   "execution_count": 598,
   "metadata": {
    "execution": {
     "iopub.execute_input": "2022-12-15T22:46:19.847309Z",
     "iopub.status.busy": "2022-12-15T22:46:19.847050Z",
     "iopub.status.idle": "2022-12-15T22:46:19.918438Z",
     "shell.execute_reply": "2022-12-15T22:46:19.917547Z",
     "shell.execute_reply.started": "2022-12-15T22:46:19.847285Z"
    }
   },
   "outputs": [],
   "source": [
    "x_train, y_train = build_sequences(x_train, y_train, window=18, stride=1, padding=False, preserve_window_size=True)\n",
    "x_train = np.array(x_train)\n",
    "y_train = np.array(y_train)"
   ]
  },
  {
   "cell_type": "code",
   "execution_count": 599,
   "metadata": {
    "execution": {
     "iopub.execute_input": "2022-12-15T22:46:19.920817Z",
     "iopub.status.busy": "2022-12-15T22:46:19.920448Z",
     "iopub.status.idle": "2022-12-15T22:46:19.941249Z",
     "shell.execute_reply": "2022-12-15T22:46:19.940367Z",
     "shell.execute_reply.started": "2022-12-15T22:46:19.920779Z"
    }
   },
   "outputs": [],
   "source": [
    "x_train, y_train = shuffle(x_train, y_train, random_state=seed)"
   ]
  },
  {
   "cell_type": "markdown",
   "metadata": {},
   "source": [
    "### DAUG pipeline"
   ]
  },
  {
   "cell_type": "code",
   "execution_count": null,
   "metadata": {},
   "outputs": [],
   "source": [
    "x_train_aug1, y_train_aug1 = daug_reverse(x_train, y_train, 0.1, 1, True, seed=seed)\n",
    "np.append(x_train, x_train_aug1)\n",
    "np.append(y_train, y_train_aug1)\n",
    "x_train_aug2, y_train_aug2 = daug_noise(x_train, y_train, 1000, 10, 0.1, True, seed=seed)\n",
    "np.append(x_train, x_train_aug2)\n",
    "np.append(y_train, y_train_aug2)\n",
    "x_train_aug3, y_train_aug3 = daug_cutmix(x_train, y_train, (1, 1), True, False, (0.1, 1), True, seed=seed)\n",
    "np.append(x_train, x_train_aug3)\n",
    "np.append(y_train, y_train_aug3)\n",
    "\n",
    "x_train, y_train = shuffle(x_train, y_train, random_state=seed)"
   ]
  },
  {
   "cell_type": "markdown",
   "metadata": {},
   "source": [
    "### One hot"
   ]
  },
  {
   "cell_type": "code",
   "execution_count": 601,
   "metadata": {
    "execution": {
     "iopub.execute_input": "2022-12-15T22:46:51.235767Z",
     "iopub.status.busy": "2022-12-15T22:46:51.235132Z",
     "iopub.status.idle": "2022-12-15T22:46:51.244391Z",
     "shell.execute_reply": "2022-12-15T22:46:51.243186Z",
     "shell.execute_reply.started": "2022-12-15T22:46:51.235725Z"
    }
   },
   "outputs": [],
   "source": [
    "y_train = tfk.utils.to_categorical(y_train)\n",
    "y_val = tfk.utils.to_categorical(y_val)"
   ]
  },
  {
   "cell_type": "markdown",
   "metadata": {},
   "source": [
    "### Normalization"
   ]
  },
  {
   "cell_type": "code",
   "execution_count": null,
   "metadata": {},
   "outputs": [],
   "source": [
    "# Norm on the 36-dimension\n",
    "# x_val /= np.max(np.abs(x_train), axis=0)\n",
    "# x_train /= np.max(np.abs(x_train), axis=0)\n",
    "\n",
    "# Norm on the 6-dimension\n",
    "# x_val /= np.max(np.max(np.abs(x_train), axis=0))\n",
    "# x_train /= np.max(np.max(np.abs(x_train), axis=0))"
   ]
  },
  {
   "cell_type": "markdown",
   "metadata": {},
   "source": [
    "### Visualization"
   ]
  },
  {
   "cell_type": "code",
   "execution_count": 602,
   "metadata": {
    "execution": {
     "iopub.execute_input": "2022-12-15T22:46:51.247090Z",
     "iopub.status.busy": "2022-12-15T22:46:51.246426Z",
     "iopub.status.idle": "2022-12-15T22:46:51.262220Z",
     "shell.execute_reply": "2022-12-15T22:46:51.260782Z",
     "shell.execute_reply.started": "2022-12-15T22:46:51.247052Z"
    }
   },
   "outputs": [
    {
     "name": "stdout",
     "output_type": "stream",
     "text": [
      "(36917, 18, 6)\n",
      "(36917, 12)\n"
     ]
    }
   ],
   "source": [
    "print(x_train.shape)\n",
    "print(y_train.shape)"
   ]
  },
  {
   "cell_type": "code",
   "execution_count": 604,
   "metadata": {
    "execution": {
     "iopub.execute_input": "2022-12-15T22:46:51.275819Z",
     "iopub.status.busy": "2022-12-15T22:46:51.274909Z",
     "iopub.status.idle": "2022-12-15T22:46:51.286222Z",
     "shell.execute_reply": "2022-12-15T22:46:51.285026Z",
     "shell.execute_reply.started": "2022-12-15T22:46:51.275785Z"
    }
   },
   "outputs": [],
   "source": [
    "#inspect_timewise(x_total)\n",
    "#inspect_multivariate(x_train, y_train)"
   ]
  },
  {
   "cell_type": "markdown",
   "metadata": {},
   "source": [
    "## Model"
   ]
  },
  {
   "cell_type": "code",
   "execution_count": 605,
   "metadata": {
    "execution": {
     "iopub.execute_input": "2022-12-15T22:46:51.288978Z",
     "iopub.status.busy": "2022-12-15T22:46:51.288066Z",
     "iopub.status.idle": "2022-12-15T22:46:51.312792Z",
     "shell.execute_reply": "2022-12-15T22:46:51.309167Z",
     "shell.execute_reply.started": "2022-12-15T22:46:51.288917Z"
    }
   },
   "outputs": [],
   "source": [
    "def build_LSTM_classifier(input_shape, classes):\n",
    "    # Build the neural network layer by layer\n",
    "    input_layer = tfkl.Input(shape=input_shape, name='Input')\n",
    "    \n",
    "    # Preprocessing\n",
    "    pre = input_layer\n",
    "    pre = tf.keras.layers.Normalization(axis=2, name=\"Norm\")(pre)\n",
    "    \n",
    "    # Feature extractor\n",
    "    lstm = pre\n",
    "    lstm = tfkl.LSTM(128, return_sequences=True)(lstm)\n",
    "    lstm = tfkl.LSTM(128)(lstm)\n",
    "    lstm = tfkl.Dropout(.5, seed=seed)(lstm)\n",
    "    \n",
    "    # Classifier\n",
    "    classifier = lstm\n",
    "    classifier = tfkl.Dense(128, activation='relu')(classifier)\n",
    "    classifier = tfkl.Dense(classes, activation='softmax')(classifier)\n",
    "\n",
    "    # Connect input and output through the Model class\n",
    "    output_layer = classifier\n",
    "    model = tfk.Model(inputs=input_layer, outputs=output_layer, name='model')\n",
    "\n",
    "    # Compile the model\n",
    "    model.compile(loss=tfk.losses.CategoricalCrossentropy(), optimizer=tfk.optimizers.Adam(), metrics='accuracy')\n",
    "\n",
    "    # Return the model\n",
    "    return model"
   ]
  },
  {
   "cell_type": "code",
   "execution_count": 606,
   "metadata": {
    "execution": {
     "iopub.execute_input": "2022-12-15T22:46:51.316781Z",
     "iopub.status.busy": "2022-12-15T22:46:51.315039Z",
     "iopub.status.idle": "2022-12-15T22:46:51.333255Z",
     "shell.execute_reply": "2022-12-15T22:46:51.329739Z",
     "shell.execute_reply.started": "2022-12-15T22:46:51.316741Z"
    }
   },
   "outputs": [],
   "source": [
    "def build_BiLSTM_classifier(input_shape, classes):\n",
    "    # Build the neural network layer by layer\n",
    "    input_layer = tfkl.Input(shape=input_shape, name='Input')\n",
    "    \n",
    "    # Preprocessing\n",
    "    pre = input_layer\n",
    "    pre = tf.keras.layers.Normalization(axis=2, name=\"Norm\")(pre)\n",
    "\n",
    "    # Feature extractor\n",
    "    bilstm = pre\n",
    "    bilstm = tfkl.Bidirectional(tfkl.LSTM(128, return_sequences=True))(bilstm)\n",
    "    bilstm = tfkl.Bidirectional(tfkl.LSTM(128, return_sequences=True))(bilstm)\n",
    "    bilstm = tfkl.Bidirectional(tfkl.LSTM(256))(bilstm)\n",
    "    bilstm = tfkl.Dropout(.5, seed=seed)(bilstm)\n",
    "\n",
    "    # Classifier\n",
    "    classifier = bilstm\n",
    "    classifier = tfkl.Dense(128, activation='relu')(classifier)\n",
    "    classifier = tfkl.Dense(classes, activation='softmax')(classifier)\n",
    "\n",
    "    # Connect input and output through the Model class\n",
    "    output_layer = classifier\n",
    "    model = tfk.Model(inputs=input_layer, outputs=output_layer, name='model')\n",
    "\n",
    "    # Compile the model\n",
    "    model.compile(loss=tfk.losses.CategoricalCrossentropy(), optimizer=tfk.optimizers.Adam(), metrics='accuracy')\n",
    "\n",
    "    # Return the model\n",
    "    return model"
   ]
  },
  {
   "cell_type": "code",
   "execution_count": 607,
   "metadata": {
    "execution": {
     "iopub.execute_input": "2022-12-15T22:46:51.338051Z",
     "iopub.status.busy": "2022-12-15T22:46:51.335762Z",
     "iopub.status.idle": "2022-12-15T22:46:51.368093Z",
     "shell.execute_reply": "2022-12-15T22:46:51.366993Z",
     "shell.execute_reply.started": "2022-12-15T22:46:51.338005Z"
    }
   },
   "outputs": [],
   "source": [
    "def build_1DCNN_classifier(input_shape, classes):\n",
    "    # Build the neural network layer by layer\n",
    "    input_layer = tfkl.Input(shape=input_shape, name='Input')\n",
    "    \n",
    "    pre = input_layer\n",
    "    pre = tf.keras.layers.Normalization(axis=2, name=\"Norm\")(pre)\n",
    "    \n",
    "\n",
    "    # Feature extractor\n",
    "    cnn = pre\n",
    "    cnn = tfkl.Conv1D(128, 3, padding='same', activation='relu')(pre)\n",
    "    cnn = tfkl.MaxPooling1D()(cnn)\n",
    "    cnn = tfkl.Conv1D(128, 3, padding='same', activation='relu')(cnn)\n",
    "    cnn = tfkl.MaxPooling1D()(cnn)\n",
    "    cnn = tfkl.Conv1D(128, 3, padding='same', activation='relu')(cnn)\n",
    "    cnn = tfkl.MaxPooling1D()(cnn)\n",
    "    cnn = tfkl.Conv1D(128, 3, padding='same', activation='relu')(cnn)\n",
    "    cnn = tfkl.MaxPooling1D()(cnn)\n",
    "    cnn = tfkl.Conv1D(128, 3, padding='same', activation='relu')(cnn)\n",
    "    cnn = tfkl.GlobalAveragePooling1D()(cnn)\n",
    "    cnn = tfkl.Dropout(.5, seed=seed)(cnn)\n",
    "\n",
    "    # Classifier\n",
    "    classifier = cnn\n",
    "    classifier = tfkl.Dense(128, activation='relu')(classifier)\n",
    "    classifier = tfkl.Dense(classes, activation='softmax')(classifier)\n",
    "\n",
    "    # Connect input and output through the Model class\n",
    "    output_layer = classifier\n",
    "    model = tfk.Model(inputs=input_layer, outputs=output_layer, name='model')\n",
    "\n",
    "    # Compile the model\n",
    "    model.compile(loss=tfk.losses.CategoricalCrossentropy(), optimizer=tfk.optimizers.Adam(), metrics='accuracy')\n",
    "\n",
    "    # Return the model\n",
    "    return model"
   ]
  },
  {
   "cell_type": "code",
   "execution_count": 608,
   "metadata": {
    "execution": {
     "iopub.execute_input": "2022-12-15T22:46:51.370740Z",
     "iopub.status.busy": "2022-12-15T22:46:51.370017Z",
     "iopub.status.idle": "2022-12-15T22:46:51.384678Z",
     "shell.execute_reply": "2022-12-15T22:46:51.383512Z",
     "shell.execute_reply.started": "2022-12-15T22:46:51.370666Z"
    }
   },
   "outputs": [],
   "source": [
    "# MEH\n",
    "def build_supernet_classifier(input_shape, classes):\n",
    "    supernet = tfk.applications.ResNet50(\n",
    "        include_top=False,\n",
    "        weights=\"imagenet\",\n",
    "        #input_shape=input_shape\n",
    "    )\n",
    "    \n",
    "    supernet.trainable = True\n",
    "    \n",
    "    # Build the neural network layer by layer\n",
    "    input_layer = tfkl.Input(shape=input_shape, name='Input')\n",
    "    \n",
    "    x = tfkl.Reshape((72, 1, 3))(input_layer)\n",
    "    x = tfkl.Resizing(32, 32)(x)\n",
    "    # x = input_layer\n",
    "    \n",
    "    cnn = supernet(x)\n",
    "    \n",
    "    gap = tfkl.GlobalAveragePooling2D()(cnn)\n",
    "    \n",
    "    x = tfkl.Dropout(0.3, seed=seed)(gap)\n",
    "    x = tfkl.Dense(\n",
    "        256, \n",
    "        activation='relu',\n",
    "        kernel_initializer = tfk.initializers.HeUniform(seed))(x)\n",
    "    x = tfkl.Dropout(0.3, seed=seed)(x)\n",
    "    x = tfkl.Dense(\n",
    "        256, \n",
    "        activation='relu',\n",
    "        kernel_initializer = tfk.initializers.HeUniform(seed))(x)\n",
    "    classifier = tfkl.Dropout(0.3, seed=seed)(x)\n",
    "    output_layer = tfkl.Dense(classes, activation='softmax')(classifier)\n",
    "\n",
    "    # Connect input and output through the Model class\n",
    "    model = tfk.Model(inputs=input_layer, outputs=output_layer, name='model')\n",
    "\n",
    "    # Compile the model\n",
    "    model.compile(loss=tfk.losses.CategoricalCrossentropy(), optimizer=tfk.optimizers.Adam(), metrics='accuracy')\n",
    "\n",
    "    # Return the model\n",
    "    return model"
   ]
  },
  {
   "cell_type": "code",
   "execution_count": 609,
   "metadata": {
    "execution": {
     "iopub.execute_input": "2022-12-15T22:46:51.393882Z",
     "iopub.status.busy": "2022-12-15T22:46:51.391843Z",
     "iopub.status.idle": "2022-12-15T22:46:51.548699Z",
     "shell.execute_reply": "2022-12-15T22:46:51.547680Z",
     "shell.execute_reply.started": "2022-12-15T22:46:51.393843Z"
    }
   },
   "outputs": [
    {
     "name": "stdout",
     "output_type": "stream",
     "text": [
      "Model: \"model\"\n",
      "_________________________________________________________________\n",
      "Layer (type)                 Output Shape              Param #   \n",
      "=================================================================\n",
      "Input (InputLayer)           [(None, None, 6)]         0         \n",
      "_________________________________________________________________\n",
      "Norm (Normalization)         (None, None, 6)           13        \n",
      "_________________________________________________________________\n",
      "conv1d_70 (Conv1D)           (None, None, 128)         2432      \n",
      "_________________________________________________________________\n",
      "max_pooling1d_56 (MaxPooling (None, None, 128)         0         \n",
      "_________________________________________________________________\n",
      "conv1d_71 (Conv1D)           (None, None, 128)         49280     \n",
      "_________________________________________________________________\n",
      "max_pooling1d_57 (MaxPooling (None, None, 128)         0         \n",
      "_________________________________________________________________\n",
      "conv1d_72 (Conv1D)           (None, None, 128)         49280     \n",
      "_________________________________________________________________\n",
      "max_pooling1d_58 (MaxPooling (None, None, 128)         0         \n",
      "_________________________________________________________________\n",
      "conv1d_73 (Conv1D)           (None, None, 128)         49280     \n",
      "_________________________________________________________________\n",
      "max_pooling1d_59 (MaxPooling (None, None, 128)         0         \n",
      "_________________________________________________________________\n",
      "conv1d_74 (Conv1D)           (None, None, 128)         49280     \n",
      "_________________________________________________________________\n",
      "global_average_pooling1d_14  (None, 128)               0         \n",
      "_________________________________________________________________\n",
      "dropout_15 (Dropout)         (None, 128)               0         \n",
      "_________________________________________________________________\n",
      "dense_30 (Dense)             (None, 128)               16512     \n",
      "_________________________________________________________________\n",
      "dense_31 (Dense)             (None, 12)                1548      \n",
      "=================================================================\n",
      "Total params: 217,625\n",
      "Trainable params: 217,612\n",
      "Non-trainable params: 13\n",
      "_________________________________________________________________\n"
     ]
    }
   ],
   "source": [
    "#model = build_LSTM_classifier(input_shape, classes)\n",
    "# model = build_BiLSTM_classifier(input_shape, classes)\n",
    "model = build_1DCNN_classifier(input_shape, classes)   # BEST ONE\n",
    "# model = build_supernet_classifier(input_shape, classes)\n",
    "model.summary()"
   ]
  },
  {
   "cell_type": "markdown",
   "metadata": {},
   "source": [
    "## Training"
   ]
  },
  {
   "cell_type": "markdown",
   "metadata": {},
   "source": [
    "### Adapt preprocessing layers"
   ]
  },
  {
   "cell_type": "code",
   "execution_count": 610,
   "metadata": {
    "execution": {
     "iopub.execute_input": "2022-12-15T22:46:51.553470Z",
     "iopub.status.busy": "2022-12-15T22:46:51.552940Z",
     "iopub.status.idle": "2022-12-15T22:46:52.726996Z",
     "shell.execute_reply": "2022-12-15T22:46:52.726022Z",
     "shell.execute_reply.started": "2022-12-15T22:46:51.553435Z"
    }
   },
   "outputs": [],
   "source": [
    "model.get_layer(\"Norm\").adapt(x_train)"
   ]
  },
  {
   "cell_type": "markdown",
   "metadata": {},
   "source": [
    "### Train"
   ]
  },
  {
   "cell_type": "code",
   "execution_count": 611,
   "metadata": {
    "execution": {
     "iopub.execute_input": "2022-12-15T22:46:52.729191Z",
     "iopub.status.busy": "2022-12-15T22:46:52.728816Z",
     "iopub.status.idle": "2022-12-15T22:49:49.008056Z",
     "shell.execute_reply": "2022-12-15T22:49:49.007145Z",
     "shell.execute_reply.started": "2022-12-15T22:46:52.729153Z"
    }
   },
   "outputs": [
    {
     "name": "stdout",
     "output_type": "stream",
     "text": [
      "Epoch 1/200\n",
      "577/577 [==============================] - 4s 6ms/step - loss: 1.6946 - accuracy: 0.4391 - val_loss: 1.5103 - val_accuracy: 0.5556\n",
      "Epoch 2/200\n",
      "577/577 [==============================] - 3s 4ms/step - loss: 1.3129 - accuracy: 0.5565 - val_loss: 1.2410 - val_accuracy: 0.6276\n",
      "Epoch 3/200\n",
      "577/577 [==============================] - 3s 4ms/step - loss: 1.2108 - accuracy: 0.5872 - val_loss: 1.1150 - val_accuracy: 0.6255\n",
      "Epoch 4/200\n",
      "577/577 [==============================] - 3s 5ms/step - loss: 1.1102 - accuracy: 0.6215 - val_loss: 1.0741 - val_accuracy: 0.6811\n",
      "Epoch 5/200\n",
      "577/577 [==============================] - 3s 4ms/step - loss: 1.0267 - accuracy: 0.6505 - val_loss: 1.3214 - val_accuracy: 0.6440\n",
      "Epoch 6/200\n",
      "577/577 [==============================] - 3s 4ms/step - loss: 0.9542 - accuracy: 0.6726 - val_loss: 1.0708 - val_accuracy: 0.6914\n",
      "Epoch 7/200\n",
      "577/577 [==============================] - 3s 4ms/step - loss: 0.9209 - accuracy: 0.6861 - val_loss: 1.1760 - val_accuracy: 0.6770\n",
      "Epoch 8/200\n",
      "577/577 [==============================] - 3s 5ms/step - loss: 0.8443 - accuracy: 0.7098 - val_loss: 1.1466 - val_accuracy: 0.6893\n",
      "Epoch 9/200\n",
      "577/577 [==============================] - 3s 5ms/step - loss: 0.8121 - accuracy: 0.7229 - val_loss: 1.6537 - val_accuracy: 0.6420\n",
      "Epoch 10/200\n",
      "577/577 [==============================] - 3s 4ms/step - loss: 0.7581 - accuracy: 0.7406 - val_loss: 1.2886 - val_accuracy: 0.6440\n",
      "Epoch 11/200\n",
      "577/577 [==============================] - 3s 4ms/step - loss: 0.7378 - accuracy: 0.7515 - val_loss: 1.1849 - val_accuracy: 0.6502\n",
      "Epoch 12/200\n",
      "577/577 [==============================] - 3s 5ms/step - loss: 0.6707 - accuracy: 0.7721 - val_loss: 1.4810 - val_accuracy: 0.6749\n",
      "Epoch 13/200\n",
      "577/577 [==============================] - 3s 5ms/step - loss: 0.6202 - accuracy: 0.7883 - val_loss: 1.4076 - val_accuracy: 0.6831\n",
      "Epoch 14/200\n",
      "577/577 [==============================] - 3s 4ms/step - loss: 0.5761 - accuracy: 0.8019 - val_loss: 2.0595 - val_accuracy: 0.6790\n",
      "Epoch 15/200\n",
      "577/577 [==============================] - 3s 4ms/step - loss: 0.5409 - accuracy: 0.8171 - val_loss: 1.6490 - val_accuracy: 0.6646\n",
      "Epoch 16/200\n",
      "577/577 [==============================] - 3s 5ms/step - loss: 0.5218 - accuracy: 0.8265 - val_loss: 1.6677 - val_accuracy: 0.6728\n",
      "Epoch 17/200\n",
      "577/577 [==============================] - 3s 4ms/step - loss: 0.4123 - accuracy: 0.8606 - val_loss: 1.8268 - val_accuracy: 0.6502\n",
      "Epoch 18/200\n",
      "577/577 [==============================] - 3s 4ms/step - loss: 0.3869 - accuracy: 0.8695 - val_loss: 1.9178 - val_accuracy: 0.6893\n",
      "Epoch 19/200\n",
      "577/577 [==============================] - 3s 5ms/step - loss: 0.3620 - accuracy: 0.8803 - val_loss: 2.1943 - val_accuracy: 0.6831\n",
      "Epoch 20/200\n",
      "577/577 [==============================] - 3s 5ms/step - loss: 0.3409 - accuracy: 0.8853 - val_loss: 2.3515 - val_accuracy: 0.6893\n",
      "Epoch 21/200\n",
      "577/577 [==============================] - 3s 4ms/step - loss: 0.3357 - accuracy: 0.8878 - val_loss: 2.2354 - val_accuracy: 0.6749\n",
      "Epoch 22/200\n",
      "577/577 [==============================] - 3s 4ms/step - loss: 0.3226 - accuracy: 0.8934 - val_loss: 2.9839 - val_accuracy: 0.6831\n",
      "Epoch 23/200\n",
      "577/577 [==============================] - 3s 4ms/step - loss: 0.3191 - accuracy: 0.8959 - val_loss: 2.2343 - val_accuracy: 0.6934\n",
      "Epoch 24/200\n",
      "577/577 [==============================] - 3s 4ms/step - loss: 0.2861 - accuracy: 0.9031 - val_loss: 2.5591 - val_accuracy: 0.6872\n",
      "Epoch 25/200\n",
      "577/577 [==============================] - 3s 6ms/step - loss: 0.2870 - accuracy: 0.9041 - val_loss: 2.9696 - val_accuracy: 0.6872\n",
      "Epoch 26/200\n",
      "577/577 [==============================] - 3s 5ms/step - loss: 0.2779 - accuracy: 0.9069 - val_loss: 2.9748 - val_accuracy: 0.6934\n",
      "Epoch 27/200\n",
      "577/577 [==============================] - 3s 4ms/step - loss: 0.2676 - accuracy: 0.9114 - val_loss: 2.7550 - val_accuracy: 0.6955\n",
      "Epoch 28/200\n",
      "577/577 [==============================] - 3s 5ms/step - loss: 0.2660 - accuracy: 0.9119 - val_loss: 2.9501 - val_accuracy: 0.6934\n",
      "Epoch 29/200\n",
      "577/577 [==============================] - 3s 5ms/step - loss: 0.2817 - accuracy: 0.9086 - val_loss: 2.5327 - val_accuracy: 0.7058\n",
      "Epoch 30/200\n",
      "577/577 [==============================] - 3s 4ms/step - loss: 0.2475 - accuracy: 0.9165 - val_loss: 2.6285 - val_accuracy: 0.7263\n",
      "Epoch 31/200\n",
      "577/577 [==============================] - 2s 4ms/step - loss: 0.2453 - accuracy: 0.9173 - val_loss: 2.8924 - val_accuracy: 0.6893\n",
      "Epoch 32/200\n",
      "577/577 [==============================] - 3s 4ms/step - loss: 0.2422 - accuracy: 0.9184 - val_loss: 3.1586 - val_accuracy: 0.6955\n",
      "Epoch 33/200\n",
      "577/577 [==============================] - 3s 5ms/step - loss: 0.2499 - accuracy: 0.9169 - val_loss: 2.8861 - val_accuracy: 0.6893\n",
      "Epoch 34/200\n",
      "577/577 [==============================] - 3s 4ms/step - loss: 0.2390 - accuracy: 0.9212 - val_loss: 3.1070 - val_accuracy: 0.6790\n",
      "Epoch 35/200\n",
      "577/577 [==============================] - 3s 4ms/step - loss: 0.2315 - accuracy: 0.9231 - val_loss: 2.9372 - val_accuracy: 0.7016\n",
      "Epoch 36/200\n",
      "577/577 [==============================] - 3s 4ms/step - loss: 0.2233 - accuracy: 0.9247 - val_loss: 2.8905 - val_accuracy: 0.7099\n",
      "Epoch 37/200\n",
      "577/577 [==============================] - 3s 6ms/step - loss: 0.2292 - accuracy: 0.9238 - val_loss: 2.9539 - val_accuracy: 0.7078\n",
      "Epoch 38/200\n",
      "577/577 [==============================] - 3s 4ms/step - loss: 0.2228 - accuracy: 0.9254 - val_loss: 2.6646 - val_accuracy: 0.7119\n",
      "Epoch 39/200\n",
      "577/577 [==============================] - 3s 4ms/step - loss: 0.2346 - accuracy: 0.9227 - val_loss: 2.2553 - val_accuracy: 0.7058\n",
      "Epoch 40/200\n",
      "577/577 [==============================] - 3s 4ms/step - loss: 0.2101 - accuracy: 0.9298 - val_loss: 2.6360 - val_accuracy: 0.6893\n",
      "Epoch 41/200\n",
      "577/577 [==============================] - 3s 5ms/step - loss: 0.1780 - accuracy: 0.9407 - val_loss: 3.0051 - val_accuracy: 0.7119\n",
      "Epoch 42/200\n",
      "577/577 [==============================] - 3s 4ms/step - loss: 0.1698 - accuracy: 0.9433 - val_loss: 3.0750 - val_accuracy: 0.7222\n",
      "Epoch 43/200\n",
      "577/577 [==============================] - 3s 4ms/step - loss: 0.1697 - accuracy: 0.9426 - val_loss: 3.1137 - val_accuracy: 0.6975\n",
      "Epoch 44/200\n",
      "577/577 [==============================] - 3s 4ms/step - loss: 0.1662 - accuracy: 0.9439 - val_loss: 3.2679 - val_accuracy: 0.7037\n",
      "Epoch 45/200\n",
      "577/577 [==============================] - 3s 5ms/step - loss: 0.1665 - accuracy: 0.9445 - val_loss: 3.5376 - val_accuracy: 0.7202\n",
      "Epoch 46/200\n",
      "577/577 [==============================] - 3s 4ms/step - loss: 0.1645 - accuracy: 0.9444 - val_loss: 3.5968 - val_accuracy: 0.7346\n",
      "Epoch 47/200\n",
      "577/577 [==============================] - 3s 4ms/step - loss: 0.1654 - accuracy: 0.9449 - val_loss: 3.1370 - val_accuracy: 0.7119\n",
      "Epoch 48/200\n",
      "577/577 [==============================] - 3s 4ms/step - loss: 0.1599 - accuracy: 0.9466 - val_loss: 3.5343 - val_accuracy: 0.7078\n",
      "Epoch 49/200\n",
      "577/577 [==============================] - 3s 5ms/step - loss: 0.1596 - accuracy: 0.9469 - val_loss: 3.4332 - val_accuracy: 0.7181\n",
      "Epoch 50/200\n",
      "577/577 [==============================] - 3s 4ms/step - loss: 0.1565 - accuracy: 0.9467 - val_loss: 3.6836 - val_accuracy: 0.7058\n",
      "Epoch 51/200\n",
      "577/577 [==============================] - 3s 4ms/step - loss: 0.1566 - accuracy: 0.9475 - val_loss: 3.8810 - val_accuracy: 0.7160\n",
      "Epoch 52/200\n",
      "577/577 [==============================] - 3s 4ms/step - loss: 0.1524 - accuracy: 0.9484 - val_loss: 3.9262 - val_accuracy: 0.7181\n",
      "Epoch 53/200\n",
      "577/577 [==============================] - 3s 4ms/step - loss: 0.1521 - accuracy: 0.9474 - val_loss: 3.9969 - val_accuracy: 0.7119\n",
      "Epoch 54/200\n",
      "577/577 [==============================] - 3s 5ms/step - loss: 0.1462 - accuracy: 0.9504 - val_loss: 4.0726 - val_accuracy: 0.7078\n",
      "Epoch 55/200\n",
      "577/577 [==============================] - 3s 4ms/step - loss: 0.1457 - accuracy: 0.9518 - val_loss: 4.2203 - val_accuracy: 0.7263\n",
      "Epoch 56/200\n",
      "577/577 [==============================] - 3s 4ms/step - loss: 0.1432 - accuracy: 0.9516 - val_loss: 4.2172 - val_accuracy: 0.7243\n",
      "Epoch 57/200\n",
      "577/577 [==============================] - 3s 4ms/step - loss: 0.1248 - accuracy: 0.9581 - val_loss: 4.5954 - val_accuracy: 0.7263\n",
      "Epoch 58/200\n",
      "577/577 [==============================] - 3s 5ms/step - loss: 0.1213 - accuracy: 0.9587 - val_loss: 4.4489 - val_accuracy: 0.7243\n",
      "Epoch 59/200\n",
      "577/577 [==============================] - 3s 4ms/step - loss: 0.1216 - accuracy: 0.9586 - val_loss: 4.5264 - val_accuracy: 0.7119\n",
      "Epoch 60/200\n",
      "577/577 [==============================] - 3s 4ms/step - loss: 0.1179 - accuracy: 0.9603 - val_loss: 4.6472 - val_accuracy: 0.7160\n",
      "Epoch 61/200\n",
      "577/577 [==============================] - 3s 5ms/step - loss: 0.1171 - accuracy: 0.9599 - val_loss: 4.4760 - val_accuracy: 0.7325\n",
      "Epoch 62/200\n",
      "577/577 [==============================] - 3s 5ms/step - loss: 0.1146 - accuracy: 0.9610 - val_loss: 4.7574 - val_accuracy: 0.7346\n",
      "Epoch 63/200\n",
      "577/577 [==============================] - 3s 4ms/step - loss: 0.1123 - accuracy: 0.9611 - val_loss: 4.6337 - val_accuracy: 0.7243\n",
      "Epoch 64/200\n",
      "577/577 [==============================] - 3s 4ms/step - loss: 0.1090 - accuracy: 0.9627 - val_loss: 4.8243 - val_accuracy: 0.7263\n",
      "Epoch 65/200\n",
      "577/577 [==============================] - 3s 4ms/step - loss: 0.1092 - accuracy: 0.9626 - val_loss: 4.8957 - val_accuracy: 0.7243\n",
      "Epoch 66/200\n",
      "577/577 [==============================] - 3s 5ms/step - loss: 0.1066 - accuracy: 0.9636 - val_loss: 5.0021 - val_accuracy: 0.7078\n"
     ]
    }
   ],
   "source": [
    "history = model.fit(\n",
    "    x = x_train,\n",
    "    y = y_train,\n",
    "    validation_data = (x_val, y_val),\n",
    "    batch_size = batch_size,\n",
    "    epochs = epochs,\n",
    "    #class_weight = class_weights,\n",
    "    callbacks = [\n",
    "        tfk.callbacks.EarlyStopping(monitor='val_accuracy', mode='max', patience=20, restore_best_weights=True),\n",
    "        tfk.callbacks.ReduceLROnPlateau(monitor='val_accuracy', mode='max', patience=10, factor=0.5, min_lr=1e-5)\n",
    "    ]\n",
    ").history"
   ]
  },
  {
   "cell_type": "markdown",
   "metadata": {},
   "source": [
    "## Visualize Results"
   ]
  },
  {
   "cell_type": "code",
   "execution_count": 612,
   "metadata": {
    "execution": {
     "iopub.execute_input": "2022-12-15T22:49:49.009745Z",
     "iopub.status.busy": "2022-12-15T22:49:49.009388Z",
     "iopub.status.idle": "2022-12-15T22:49:49.660029Z",
     "shell.execute_reply": "2022-12-15T22:49:49.658901Z",
     "shell.execute_reply.started": "2022-12-15T22:49:49.009709Z"
    }
   },
   "outputs": [
    {
     "data": {
      "image/png": "[encoded data removed]",
      "text/plain": [
       "<Figure size 1224x288 with 1 Axes>"
      ]
     },
     "metadata": {
      "needs_background": "light"
     },
     "output_type": "display_data"
    },
    {
     "data": {
      "image/png": "[encoded data removed]",
      "text/plain": [
       "<Figure size 1224x288 with 1 Axes>"
      ]
     },
     "metadata": {
      "needs_background": "light"
     },
     "output_type": "display_data"
    },
    {
     "data": {
      "image/png": "[encoded data removed]",
      "text/plain": [
       "<Figure size 1224x288 with 1 Axes>"
      ]
     },
     "metadata": {
      "needs_background": "light"
     },
     "output_type": "display_data"
    }
   ],
   "source": [
    "plot_history(history)"
   ]
  },
  {
   "cell_type": "code",
   "execution_count": 613,
   "metadata": {
    "execution": {
     "iopub.execute_input": "2022-12-15T22:49:49.661629Z",
     "iopub.status.busy": "2022-12-15T22:49:49.661285Z",
     "iopub.status.idle": "2022-12-15T22:49:50.147246Z",
     "shell.execute_reply": "2022-12-15T22:49:50.146337Z",
     "shell.execute_reply.started": "2022-12-15T22:49:49.661594Z"
    }
   },
   "outputs": [
    {
     "name": "stdout",
     "output_type": "stream",
     "text": [
      "              precision    recall  f1-score   support\n",
      "\n",
      "           0       0.75      0.43      0.55         7\n",
      "           1       0.56      0.56      0.56        25\n",
      "           2       0.95      0.98      0.96        54\n",
      "           3       0.54      0.59      0.57        76\n",
      "           4       0.50      0.33      0.40        12\n",
      "           5       0.36      0.29      0.32        31\n",
      "           6       0.93      0.83      0.87        63\n",
      "           7       0.62      0.36      0.45        14\n",
      "           8       0.92      0.92      0.92        24\n",
      "           9       0.74      0.85      0.79       155\n",
      "          10       1.00      0.87      0.93        15\n",
      "          11       0.83      0.50      0.62        10\n",
      "\n",
      "    accuracy                           0.73       486\n",
      "   macro avg       0.73      0.63      0.66       486\n",
      "weighted avg       0.73      0.73      0.73       486\n",
      "\n",
      "Accuracy: 0.7346\n",
      "Precision: 0.7253\n",
      "Recall: 0.6253\n",
      "F1: 0.6623\n"
     ]
    },
    {
     "data": {
      "image/png": "[encoded data removed]",
      "text/plain": [
       "<Figure size 720x576 with 2 Axes>"
      ]
     },
     "metadata": {
      "needs_background": "light"
     },
     "output_type": "display_data"
    }
   ],
   "source": [
    "evaluate_classes_performance(model, x_val, y_val)"
   ]
  },
  {
   "cell_type": "markdown",
   "metadata": {},
   "source": [
    "## Save"
   ]
  },
  {
   "cell_type": "code",
   "execution_count": 614,
   "metadata": {
    "execution": {
     "iopub.execute_input": "2022-12-15T22:49:50.149414Z",
     "iopub.status.busy": "2022-12-15T22:49:50.148543Z",
     "iopub.status.idle": "2022-12-15T22:49:52.292001Z",
     "shell.execute_reply": "2022-12-15T22:49:52.290886Z",
     "shell.execute_reply.started": "2022-12-15T22:49:50.149376Z"
    }
   },
   "outputs": [
    {
     "data": {
      "text/plain": [
       "'/kaggle/working/ANN_Homework2_Model.zip'"
      ]
     },
     "execution_count": 614,
     "metadata": {},
     "output_type": "execute_result"
    }
   ],
   "source": [
    "import shutil\n",
    "model.save('ANN_Homework2_Model')\n",
    "shutil.make_archive(\"ANN_Homework2_Model\", 'zip', '/kaggle/working/ANN_Homework2_Model')"
   ]
  }
 ],
 "metadata": {
  "kernelspec": {
   "display_name": "Python 3 (ipykernel)",
   "language": "python",
   "name": "python3"
  },
  "language_info": {
   "codemirror_mode": {
    "name": "ipython",
    "version": 3
   },
   "file_extension": ".py",
   "mimetype": "text/x-python",
   "name": "python",
   "nbconvert_exporter": "python",
   "pygments_lexer": "ipython3",
   "version": "3.10.9"
  }
 },
 "nbformat": 4,
 "nbformat_minor": 4
}
