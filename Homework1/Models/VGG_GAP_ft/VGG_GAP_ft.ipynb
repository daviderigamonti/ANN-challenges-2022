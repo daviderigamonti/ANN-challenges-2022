{
 "cells": [
  {
   "cell_type": "markdown",
   "metadata": {
    "id": "omSLbdLvhDRx"
   },
   "source": [
    "### Connect to Drive"
   ]
  },
  {
   "cell_type": "code",
   "execution_count": null,
   "metadata": {
    "colab": {
     "base_uri": "https://localhost:8080/"
    },
    "execution": {
     "iopub.execute_input": "2022-11-17T21:55:48.520449Z",
     "iopub.status.busy": "2022-11-17T21:55:48.520024Z",
     "iopub.status.idle": "2022-11-17T21:55:48.525975Z",
     "shell.execute_reply": "2022-11-17T21:55:48.524574Z",
     "shell.execute_reply.started": "2022-11-17T21:55:48.520397Z"
    },
    "executionInfo": {
     "elapsed": 25852,
     "status": "ok",
     "timestamp": 1668430728427,
     "user": {
      "displayName": "Ri ga",
      "userId": "15539171450533002544"
     },
     "user_tz": -60
    },
    "id": "AoaLQpvChLpb",
    "outputId": "158aedd8-4086-4dce-cfa7-7fe629a46a87"
   },
   "outputs": [],
   "source": [
    "#from google.colab import drive\n",
    "#drive.mount('/gdrive')"
   ]
  },
  {
   "cell_type": "code",
   "execution_count": null,
   "metadata": {
    "colab": {
     "base_uri": "https://localhost:8080/"
    },
    "execution": {
     "iopub.execute_input": "2022-11-17T21:55:48.529210Z",
     "iopub.status.busy": "2022-11-17T21:55:48.528627Z",
     "iopub.status.idle": "2022-11-17T21:55:48.536711Z",
     "shell.execute_reply": "2022-11-17T21:55:48.535393Z",
     "shell.execute_reply.started": "2022-11-17T21:55:48.529171Z"
    },
    "executionInfo": {
     "elapsed": 10,
     "status": "ok",
     "timestamp": 1668430985019,
     "user": {
      "displayName": "Ri ga",
      "userId": "15539171450533002544"
     },
     "user_tz": -60
    },
    "id": "2ItZ794FhPQe",
    "outputId": "c389da83-45eb-457b-f20a-da32be16a507"
   },
   "outputs": [],
   "source": [
    "#%cd /gdrive/My Drive/ANN Exercises/Homework1"
   ]
  },
  {
   "cell_type": "markdown",
   "metadata": {
    "id": "MdD_8Vyswkwf"
   },
   "source": [
    "### Import libraries"
   ]
  },
  {
   "cell_type": "code",
   "execution_count": null,
   "metadata": {
    "colab": {
     "base_uri": "https://localhost:8080/"
    },
    "execution": {
     "iopub.execute_input": "2022-11-17T21:55:48.539303Z",
     "iopub.status.busy": "2022-11-17T21:55:48.538834Z",
     "iopub.status.idle": "2022-11-17T21:55:48.549401Z",
     "shell.execute_reply": "2022-11-17T21:55:48.548266Z",
     "shell.execute_reply.started": "2022-11-17T21:55:48.539264Z"
    },
    "executionInfo": {
     "elapsed": 3788,
     "status": "ok",
     "timestamp": 1668430737314,
     "user": {
      "displayName": "Ri ga",
      "userId": "15539171450533002544"
     },
     "user_tz": -60
    },
    "id": "f_sOaV1Y8NsL",
    "outputId": "6ec72cfa-4896-4a23-8df2-5f80425b893e"
   },
   "outputs": [],
   "source": [
    "import tensorflow as tf\n",
    "import numpy as np\n",
    "import os\n",
    "import random\n",
    "import pandas as pd\n",
    "import seaborn as sns\n",
    "import matplotlib as mpl\n",
    "import matplotlib.pyplot as plt\n",
    "from sklearn.model_selection import train_test_split\n",
    "from sklearn.metrics import accuracy_score, f1_score, precision_score, recall_score\n",
    "from sklearn.metrics import confusion_matrix\n",
    "\n",
    "tfk = tf.keras\n",
    "tfkl = tf.keras.layers\n",
    "print(tf.__version__)"
   ]
  },
  {
   "cell_type": "code",
   "execution_count": null,
   "metadata": {
    "execution": {
     "iopub.execute_input": "2022-11-17T21:55:48.552876Z",
     "iopub.status.busy": "2022-11-17T21:55:48.552461Z",
     "iopub.status.idle": "2022-11-17T21:55:48.562519Z",
     "shell.execute_reply": "2022-11-17T21:55:48.561354Z",
     "shell.execute_reply.started": "2022-11-17T21:55:48.552840Z"
    },
    "executionInfo": {
     "elapsed": 4,
     "status": "ok",
     "timestamp": 1668430891828,
     "user": {
      "displayName": "Ri ga",
      "userId": "15539171450533002544"
     },
     "user_tz": -60
    },
    "id": "f6CWlKBVoi7s"
   },
   "outputs": [],
   "source": [
    "# Import dataset\n",
    "#!unzip training_dataset_homework1.zip\n",
    "\n",
    "# Dataset folders \n",
    "dataset_dir = 'training_data_final'"
   ]
  },
  {
   "cell_type": "code",
   "execution_count": null,
   "metadata": {
    "execution": {
     "iopub.execute_input": "2022-11-17T21:55:48.565065Z",
     "iopub.status.busy": "2022-11-17T21:55:48.564021Z",
     "iopub.status.idle": "2022-11-17T21:55:48.584464Z",
     "shell.execute_reply": "2022-11-17T21:55:48.583390Z",
     "shell.execute_reply.started": "2022-11-17T21:55:48.565027Z"
    },
    "executionInfo": {
     "elapsed": 6,
     "status": "ok",
     "timestamp": 1668430895313,
     "user": {
      "displayName": "Ri ga",
      "userId": "15539171450533002544"
     },
     "user_tz": -60
    },
    "id": "s8aWwo1fs3Zh"
   },
   "outputs": [],
   "source": [
    "# Random seed for reproducibility\n",
    "seed = 42\n",
    "\n",
    "random.seed(seed)\n",
    "np.random.seed(seed)\n",
    "tf.random.set_seed(seed)\n",
    "os.environ['PYTHONHASHSEED'] = str(seed)\n",
    "tf.compat.v1.set_random_seed(seed)"
   ]
  },
  {
   "cell_type": "code",
   "execution_count": null,
   "metadata": {
    "execution": {
     "iopub.execute_input": "2022-11-17T21:55:48.588494Z",
     "iopub.status.busy": "2022-11-17T21:55:48.588189Z",
     "iopub.status.idle": "2022-11-17T21:55:48.596432Z",
     "shell.execute_reply": "2022-11-17T21:55:48.595362Z",
     "shell.execute_reply.started": "2022-11-17T21:55:48.588467Z"
    },
    "executionInfo": {
     "elapsed": 6,
     "status": "ok",
     "timestamp": 1668430898832,
     "user": {
      "displayName": "Ri ga",
      "userId": "15539171450533002544"
     },
     "user_tz": -60
    },
    "id": "xqGEPTXRvg4q"
   },
   "outputs": [],
   "source": [
    "labels = ['Species1', # 1\n",
    "          'Species2', # 2\n",
    "          'Species3', # 3\n",
    "          'Species4', # 4\n",
    "          'Species5', # 5\n",
    "          'Species6', # 6\n",
    "          'Species7', # 7\n",
    "          'Species8', # 8\n",
    "]"
   ]
  },
  {
   "cell_type": "code",
   "execution_count": null,
   "metadata": {
    "colab": {
     "base_uri": "https://localhost:8080/"
    },
    "execution": {
     "iopub.execute_input": "2022-11-17T21:55:48.598623Z",
     "iopub.status.busy": "2022-11-17T21:55:48.598202Z",
     "iopub.status.idle": "2022-11-17T21:55:48.918639Z",
     "shell.execute_reply": "2022-11-17T21:55:48.917225Z",
     "shell.execute_reply.started": "2022-11-17T21:55:48.598585Z"
    },
    "executionInfo": {
     "elapsed": 8811,
     "status": "ok",
     "timestamp": 1668430999554,
     "user": {
      "displayName": "Ri ga",
      "userId": "15539171450533002544"
     },
     "user_tz": -60
    },
    "id": "IUE2a88jpS3-",
    "outputId": "4e44134e-d52b-4975-ab1a-9dbddbfbc723"
   },
   "outputs": [],
   "source": [
    "# Images are divided into folders, one for each class. \n",
    "# If the images are organized in such a way, we can exploit the \n",
    "# ImageDataGenerator to read them from disk.\n",
    "from tensorflow.keras.preprocessing.image import ImageDataGenerator\n",
    "\n",
    "# Create an instance of ImageDataGenerator for training, validation, and test sets\n",
    "train_data_gen = ImageDataGenerator(validation_split=0.15, \n",
    "                                    #rescale=1/255.\n",
    "                                   )\n",
    "\n",
    "# Obtain a data generator with the 'ImageDataGenerator.flow_from_directory' method\n",
    "train_gen = train_data_gen.flow_from_directory(directory=dataset_dir,\n",
    "                                               target_size=(96,96),\n",
    "                                               color_mode='rgb',\n",
    "                                               classes=labels, # can be set to labels\n",
    "                                               subset=\"training\",\n",
    "                                               class_mode='categorical',\n",
    "                                               batch_size=8,\n",
    "                                               shuffle=True,\n",
    "                                               seed=seed)\n",
    "valid_gen = train_data_gen.flow_from_directory(directory=dataset_dir,\n",
    "                                               target_size=(96,96),\n",
    "                                               color_mode='rgb',\n",
    "                                               classes=labels, # can be set to labels\n",
    "                                               subset=\"validation\",\n",
    "                                               class_mode='categorical',\n",
    "                                               batch_size=8,\n",
    "                                               shuffle=True,\n",
    "                                               seed=seed)"
   ]
  },
  {
   "cell_type": "code",
   "execution_count": null,
   "metadata": {
    "colab": {
     "base_uri": "https://localhost:8080/"
    },
    "execution": {
     "iopub.execute_input": "2022-11-17T21:55:48.920696Z",
     "iopub.status.busy": "2022-11-17T21:55:48.920064Z",
     "iopub.status.idle": "2022-11-17T21:55:48.927532Z",
     "shell.execute_reply": "2022-11-17T21:55:48.926506Z",
     "shell.execute_reply.started": "2022-11-17T21:55:48.920659Z"
    },
    "executionInfo": {
     "elapsed": 10,
     "status": "ok",
     "timestamp": 1668430775722,
     "user": {
      "displayName": "Ri ga",
      "userId": "15539171450533002544"
     },
     "user_tz": -60
    },
    "id": "9ahtrx9uvHAu",
    "outputId": "67b65a01-55dc-4dc9-bd7b-2d40a0a799d3"
   },
   "outputs": [],
   "source": [
    "print(\"Assigned labels\")\n",
    "print(train_gen.class_indices)\n",
    "print()\n",
    "print(\"Target classes\")\n",
    "print(train_gen.classes)"
   ]
  },
  {
   "cell_type": "code",
   "execution_count": null,
   "metadata": {
    "execution": {
     "iopub.execute_input": "2022-11-17T21:55:48.932075Z",
     "iopub.status.busy": "2022-11-17T21:55:48.931056Z",
     "iopub.status.idle": "2022-11-17T21:55:48.939266Z",
     "shell.execute_reply": "2022-11-17T21:55:48.938334Z",
     "shell.execute_reply.started": "2022-11-17T21:55:48.932039Z"
    },
    "executionInfo": {
     "elapsed": 2,
     "status": "ok",
     "timestamp": 1668430778812,
     "user": {
      "displayName": "Ri ga",
      "userId": "15539171450533002544"
     },
     "user_tz": -60
    },
    "id": "VjnPdLbwvL7b"
   },
   "outputs": [],
   "source": [
    "def get_next_batch(generator):\n",
    "    batch = next(generator)\n",
    "\n",
    "    image = batch[0]\n",
    "    target = batch[1]\n",
    "    \n",
    "    print(\"(Input) image shape:\", image.shape)\n",
    "    print(\"Target shape:\",target.shape)\n",
    "\n",
    "    # Visualize only the first sample\n",
    "    image = image[0]\n",
    "    target = target[0]\n",
    "    target_idx = np.argmax(target)\n",
    "    print()\n",
    "    print(\"Categorical label:\", target)\n",
    "    print(\"Label:\", target_idx)\n",
    "    print(\"Class name:\", labels[target_idx])\n",
    "    fig = plt.figure(figsize=(6, 4))\n",
    "    \n",
    "    #image = image*255\n",
    "    \n",
    "    plt.imshow(np.uint8(image))\n",
    "\n",
    "    return batch"
   ]
  },
  {
   "cell_type": "code",
   "execution_count": null,
   "metadata": {
    "colab": {
     "base_uri": "https://localhost:8080/",
     "height": 377
    },
    "execution": {
     "iopub.execute_input": "2022-11-17T21:55:48.941696Z",
     "iopub.status.busy": "2022-11-17T21:55:48.940505Z",
     "iopub.status.idle": "2022-11-17T21:55:49.178762Z",
     "shell.execute_reply": "2022-11-17T21:55:49.177685Z",
     "shell.execute_reply.started": "2022-11-17T21:55:48.941661Z"
    },
    "executionInfo": {
     "elapsed": 6064,
     "status": "ok",
     "timestamp": 1668431013399,
     "user": {
      "displayName": "Ri ga",
      "userId": "15539171450533002544"
     },
     "user_tz": -60
    },
    "id": "gij6IfU6vPHV",
    "outputId": "ad656e2e-6a34-42b5-b657-c59c4e41a61d"
   },
   "outputs": [],
   "source": [
    "# Get a sample from dataset and show info\n",
    "_ = get_next_batch(train_gen)"
   ]
  },
  {
   "cell_type": "markdown",
   "metadata": {
    "id": "Jr9CX7CYdBg_"
   },
   "source": [
    "### Models metadata"
   ]
  },
  {
   "cell_type": "code",
   "execution_count": null,
   "metadata": {
    "execution": {
     "iopub.execute_input": "2022-11-17T21:55:49.180917Z",
     "iopub.status.busy": "2022-11-17T21:55:49.180548Z",
     "iopub.status.idle": "2022-11-17T21:55:49.185885Z",
     "shell.execute_reply": "2022-11-17T21:55:49.184857Z",
     "shell.execute_reply.started": "2022-11-17T21:55:49.180880Z"
    },
    "executionInfo": {
     "elapsed": 1181,
     "status": "ok",
     "timestamp": 1668431025196,
     "user": {
      "displayName": "Ri ga",
      "userId": "15539171450533002544"
     },
     "user_tz": -60
    },
    "id": "7YcxBMJhl4EM"
   },
   "outputs": [],
   "source": [
    "input_shape = (96, 96, 3)\n",
    "epochs = 200"
   ]
  },
  {
   "cell_type": "markdown",
   "metadata": {
    "id": "KXmw4F0wlY0h"
   },
   "source": [
    "### CNN model"
   ]
  },
  {
   "cell_type": "code",
   "execution_count": null,
   "metadata": {
    "colab": {
     "base_uri": "https://localhost:8080/",
     "height": 1000
    },
    "execution": {
     "iopub.execute_input": "2022-11-17T21:55:49.188371Z",
     "iopub.status.busy": "2022-11-17T21:55:49.187642Z",
     "iopub.status.idle": "2022-11-17T21:55:49.682290Z",
     "shell.execute_reply": "2022-11-17T21:55:49.681022Z",
     "shell.execute_reply.started": "2022-11-17T21:55:49.188326Z"
    },
    "executionInfo": {
     "elapsed": 8390,
     "status": "ok",
     "timestamp": 1668431035857,
     "user": {
      "displayName": "Ri ga",
      "userId": "15539171450533002544"
     },
     "user_tz": -60
    },
    "id": "PkccDbv-bzKr",
    "outputId": "1cf466e1-aa01-41e6-eef3-61a26d827b18"
   },
   "outputs": [],
   "source": [
    "# Download and plot the VGG16 model\n",
    "supernet = tfk.applications.VGG16(\n",
    "    include_top=False,\n",
    "    weights=\"imagenet\",\n",
    "    input_shape=input_shape\n",
    ")\n",
    "# Use the supernet as feature extractor\n",
    "supernet.trainable = False\n",
    "\n",
    "supernet.summary()\n",
    "tfk.utils.plot_model(supernet)"
   ]
  },
  {
   "cell_type": "code",
   "execution_count": null,
   "metadata": {
    "colab": {
     "base_uri": "https://localhost:8080/"
    },
    "execution": {
     "iopub.execute_input": "2022-11-17T21:55:49.685350Z",
     "iopub.status.busy": "2022-11-17T21:55:49.684894Z",
     "iopub.status.idle": "2022-11-17T21:55:49.796032Z",
     "shell.execute_reply": "2022-11-17T21:55:49.794957Z",
     "shell.execute_reply.started": "2022-11-17T21:55:49.685309Z"
    },
    "executionInfo": {
     "elapsed": 1073,
     "status": "ok",
     "timestamp": 1668431084496,
     "user": {
      "displayName": "Ri ga",
      "userId": "15539171450533002544"
     },
     "user_tz": -60
    },
    "id": "cprM34RTNGHp",
    "outputId": "10c041b7-4c38-4293-95f5-8f302e9046c8"
   },
   "outputs": [],
   "source": [
    "inputs = tfk.Input(shape=input_shape)\n",
    "x = tfk.applications.vgg16.preprocess_input(inputs)\n",
    "x = supernet(x)\n",
    "x = tfkl.GlobalAveragePooling2D(name='Flattening')(x)\n",
    "x = tfkl.Dropout(0.3, seed=seed)(x)\n",
    "x = tfkl.Dense(\n",
    "    128, \n",
    "    activation='relu',\n",
    "    kernel_initializer = tfk.initializers.HeUniform(seed))(x)\n",
    "x = tfkl.Dropout(0.3, seed=seed)(x)\n",
    "x = tfkl.Dense(\n",
    "    128, \n",
    "    activation='relu',\n",
    "    kernel_initializer = tfk.initializers.HeUniform(seed))(x)\n",
    "x = tfkl.Dropout(0.3, seed=seed)(x)\n",
    "outputs = tfkl.Dense(\n",
    "    8, \n",
    "    activation='softmax',\n",
    "    kernel_initializer = tfk.initializers.GlorotUniform(seed))(x)\n",
    "\n",
    "\n",
    "# Connect input and output through the Model class\n",
    "tl_model = tfk.Model(inputs=inputs, outputs=outputs, name='model')\n",
    "\n",
    "# Compile the model\n",
    "tl_model.compile(loss=tfk.losses.CategoricalCrossentropy(), optimizer=tfk.optimizers.Adam(), metrics='accuracy')\n",
    "\n",
    "tl_model.summary()"
   ]
  },
  {
   "cell_type": "code",
   "execution_count": null,
   "metadata": {
    "colab": {
     "base_uri": "https://localhost:8080/",
     "height": 412
    },
    "execution": {
     "iopub.execute_input": "2022-11-17T21:55:49.798115Z",
     "iopub.status.busy": "2022-11-17T21:55:49.797738Z",
     "iopub.status.idle": "2022-11-17T22:01:29.100806Z",
     "shell.execute_reply": "2022-11-17T22:01:29.099822Z",
     "shell.execute_reply.started": "2022-11-17T21:55:49.798079Z"
    },
    "executionInfo": {
     "elapsed": 60084,
     "status": "error",
     "timestamp": 1668431148672,
     "user": {
      "displayName": "Ri ga",
      "userId": "15539171450533002544"
     },
     "user_tz": -60
    },
    "id": "Yp4EZ3EvlbdE",
    "outputId": "1017783c-51af-4330-e1bd-18b827ff199c",
    "scrolled": true
   },
   "outputs": [],
   "source": [
    "# Train the model\n",
    "history = tl_model.fit(\n",
    "    x = train_gen,\n",
    "    validation_data = valid_gen,\n",
    "    epochs = epochs,\n",
    "    callbacks = [tfk.callbacks.EarlyStopping(monitor='val_accuracy', mode='max', patience=10, restore_best_weights=True)],\n",
    ").history"
   ]
  },
  {
   "cell_type": "code",
   "execution_count": null,
   "metadata": {
    "execution": {
     "iopub.execute_input": "2022-11-17T22:01:29.102838Z",
     "iopub.status.busy": "2022-11-17T22:01:29.102457Z",
     "iopub.status.idle": "2022-11-17T22:02:12.091333Z",
     "shell.execute_reply": "2022-11-17T22:02:12.090015Z",
     "shell.execute_reply.started": "2022-11-17T22:01:29.102802Z"
    },
    "id": "3fziDMO1NTG2"
   },
   "outputs": [],
   "source": [
    "# Plot the training\n",
    "plt.figure(figsize=(20,5))\n",
    "plt.plot(history['loss'], label='Training', alpha=.8, color='#ff7f0e')\n",
    "plt.plot(history['val_loss'], label='Validation', alpha=.8, color='#4D61E2')\n",
    "plt.legend(loc='upper left')\n",
    "plt.title('Binary Crossentropy')\n",
    "plt.grid(alpha=.3)\n",
    "\n",
    "plt.figure(figsize=(20,5))\n",
    "plt.plot(history['accuracy'], label='Training', alpha=.8, color='#ff7f0e')\n",
    "plt.plot(history['val_accuracy'], label='Validation', alpha=.8, color='#4D61E2')\n",
    "plt.legend(loc='upper left')\n",
    "plt.title('Accuracy')\n",
    "plt.grid(alpha=.3)\n",
    "\n",
    "plt.show()"
   ]
  },
  {
   "cell_type": "code",
   "execution_count": null,
   "metadata": {
    "execution": {
     "iopub.execute_input": "2022-11-17T22:08:44.909888Z",
     "iopub.status.busy": "2022-11-17T22:08:44.908912Z",
     "iopub.status.idle": "2022-11-17T22:08:48.888213Z",
     "shell.execute_reply": "2022-11-17T22:08:48.887217Z",
     "shell.execute_reply.started": "2022-11-17T22:08:44.909851Z"
    },
    "id": "87i2HYAXVN-9"
   },
   "outputs": [],
   "source": [
    "tl_model.save('ANN_Homework1_Model')"
   ]
  },
  {
   "cell_type": "code",
   "execution_count": null,
   "metadata": {
    "execution": {
     "iopub.execute_input": "2022-11-17T22:02:40.738476Z",
     "iopub.status.busy": "2022-11-17T22:02:40.737709Z",
     "iopub.status.idle": "2022-11-17T22:02:40.748570Z",
     "shell.execute_reply": "2022-11-17T22:02:40.745756Z",
     "shell.execute_reply.started": "2022-11-17T22:02:40.738404Z"
    }
   },
   "outputs": [],
   "source": [
    "# Set all VGG layers to True\n",
    "tl_model.get_layer('vgg16').trainable = True\n",
    "for i, layer in enumerate(tl_model.get_layer('vgg16').layers):\n",
    "    print(i, layer.name, layer.trainable)"
   ]
  },
  {
   "cell_type": "code",
   "execution_count": null,
   "metadata": {
    "execution": {
     "iopub.execute_input": "2022-11-17T22:02:49.414943Z",
     "iopub.status.busy": "2022-11-17T22:02:49.414574Z",
     "iopub.status.idle": "2022-11-17T22:02:49.424551Z",
     "shell.execute_reply": "2022-11-17T22:02:49.423393Z",
     "shell.execute_reply.started": "2022-11-17T22:02:49.414911Z"
    }
   },
   "outputs": [],
   "source": [
    "# Freeze first N layers, e.g., until 14th\n",
    "for i, layer in enumerate(tl_model.get_layer('vgg16').layers[:14]):\n",
    "    layer.trainable=False\n",
    "for i, layer in enumerate(tl_model.get_layer('vgg16').layers):\n",
    "    print(i, layer.name, layer.trainable)\n",
    "tl_model.summary()"
   ]
  },
  {
   "cell_type": "code",
   "execution_count": null,
   "metadata": {
    "execution": {
     "iopub.execute_input": "2022-11-17T22:02:56.523373Z",
     "iopub.status.busy": "2022-11-17T22:02:56.523008Z",
     "iopub.status.idle": "2022-11-17T22:02:56.536621Z",
     "shell.execute_reply": "2022-11-17T22:02:56.535677Z",
     "shell.execute_reply.started": "2022-11-17T22:02:56.523342Z"
    }
   },
   "outputs": [],
   "source": [
    "# Compile the model\n",
    "tl_model.compile(loss=tfk.losses.CategoricalCrossentropy(), optimizer=tfk.optimizers.Adam(1e-4), metrics='accuracy')"
   ]
  },
  {
   "cell_type": "code",
   "execution_count": null,
   "metadata": {
    "execution": {
     "iopub.execute_input": "2022-11-17T22:03:11.286962Z",
     "iopub.status.busy": "2022-11-17T22:03:11.285939Z",
     "iopub.status.idle": "2022-11-17T22:06:24.628966Z",
     "shell.execute_reply": "2022-11-17T22:06:24.627746Z",
     "shell.execute_reply.started": "2022-11-17T22:03:11.286926Z"
    }
   },
   "outputs": [],
   "source": [
    "# Fine-tune the model\n",
    "ft_history = tl_model.fit(\n",
    "    x = train_gen,\n",
    "    batch_size = 64,\n",
    "    epochs = 200,\n",
    "    validation_data = valid_gen,\n",
    "    callbacks = [tfk.callbacks.EarlyStopping(monitor='val_accuracy', mode='max', patience=10, restore_best_weights=True)]\n",
    ").history"
   ]
  },
  {
   "cell_type": "code",
   "execution_count": null,
   "metadata": {
    "execution": {
     "iopub.execute_input": "2022-11-17T22:07:53.547563Z",
     "iopub.status.busy": "2022-11-17T22:07:53.547176Z",
     "iopub.status.idle": "2022-11-17T22:07:54.002815Z",
     "shell.execute_reply": "2022-11-17T22:07:54.001876Z",
     "shell.execute_reply.started": "2022-11-17T22:07:53.547529Z"
    }
   },
   "outputs": [],
   "source": [
    "# Plot the training\n",
    "plt.figure(figsize=(15,5))\n",
    "plt.plot(history['loss'], alpha=.3, color='#4D61E2', linestyle='--')\n",
    "plt.plot(history['val_loss'], label='Transfer Learning', alpha=.8, color='#4D61E2')\n",
    "plt.plot(ft_history['loss'], alpha=.3, color='#2ABC3D', linestyle='--')\n",
    "plt.plot(ft_history['val_loss'], label='Fine Tuning', alpha=.8, color='#2ABC3D')\n",
    "plt.legend(loc='upper left')\n",
    "plt.title('Categorical Crossentropy')\n",
    "plt.grid(alpha=.3)\n",
    "\n",
    "plt.figure(figsize=(15,5))\n",
    "plt.plot(history['accuracy'], alpha=.3, color='#4D61E2', linestyle='--')\n",
    "plt.plot(history['val_accuracy'], label='Transfer Learning', alpha=.8, color='#4D61E2')\n",
    "plt.plot(ft_history['accuracy'], alpha=.3, color='#2ABC3D', linestyle='--')\n",
    "plt.plot(ft_history['val_accuracy'], label='Fine Tuning', alpha=.8, color='#2ABC3D')\n",
    "plt.legend(loc='upper left')\n",
    "plt.title('Accuracy')\n",
    "plt.grid(alpha=.3)\n",
    "\n",
    "plt.show()"
   ]
  },
  {
   "cell_type": "code",
   "execution_count": null,
   "metadata": {},
   "outputs": [],
   "source": [
    "from sklearn.metrics import classification_report\n",
    "\n",
    "def evaluate_classes_performance(model, validation_dataset):\n",
    "\n",
    "    data_list = []\n",
    "    label_list = []\n",
    "    batch_index = 0\n",
    "\n",
    "    while batch_index <= validation_dataset.batch_index:\n",
    "        data = validation_dataset.next()\n",
    "\n",
    "        for i in range(len(data[0])):\n",
    "            data_list.append(data[0][i])\n",
    "            label_list.append(data[1][i])\n",
    "\n",
    "        batch_index = batch_index + 1\n",
    "\n",
    "    data_array = np.array(data_list)\n",
    "    label_array = np.array(label_list)   \n",
    "    label_values = np.argmax(label_array, axis=1)\n",
    "    predictions = tl_model.predict(data_array)\n",
    "    predictions = np.argmax(predictions, axis=1)\n",
    "    \n",
    "    report = classification_report(label_values, predictions)\n",
    "    print(report)"
   ]
  },
  {
   "cell_type": "code",
   "execution_count": null,
   "metadata": {},
   "outputs": [],
   "source": [
    "evaluate_classes_performance(tl_model, valid_gen)"
   ]
  },
  {
   "cell_type": "code",
   "execution_count": null,
   "metadata": {},
   "outputs": [],
   "source": [
    "import shutil\n",
    "tl_model.save('ANN_Homework1_Model')\n",
    "shutil.make_archive(\"ANN_Homework1_Model\", 'zip', '/kaggle/working/ANN_Homework1_Model')"
   ]
  }
 ],
 "metadata": {
  "accelerator": "GPU",
  "colab": {
   "collapsed_sections": [],
   "provenance": []
  },
  "gpuClass": "standard",
  "kernelspec": {
   "display_name": "Python 3 (ipykernel)",
   "language": "python",
   "name": "python3"
  },
  "language_info": {
   "codemirror_mode": {
    "name": "ipython",
    "version": 3
   },
   "file_extension": ".py",
   "mimetype": "text/x-python",
   "name": "python",
   "nbconvert_exporter": "python",
   "pygments_lexer": "ipython3",
   "version": "3.8.13"
  }
 },
 "nbformat": 4,
 "nbformat_minor": 4
}
